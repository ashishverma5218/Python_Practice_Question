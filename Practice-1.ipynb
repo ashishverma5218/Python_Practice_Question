{
 "cells": [
  {
   "cell_type": "code",
   "execution_count": 1,
   "id": "6ff853dc",
   "metadata": {},
   "outputs": [
    {
     "name": "stdout",
     "output_type": "stream",
     "text": [
      "Enter 1st age: 12\n",
      "Enter 2st age: 23\n",
      "Enter 3st age: 45\n",
      "45  is oldest !\n"
     ]
    }
   ],
   "source": [
    "# 1. User will input (3ages).Find the oldest one\n",
    "\n",
    "user1 = int(input(\"Enter 1st age: \"))\n",
    "user2 = int(input(\"Enter 2st age: \"))\n",
    "user3 = int(input(\"Enter 3st age: \"))\n",
    "\n",
    "if user1 > user2 and user1 > user2:\n",
    "    print(f\"{user1} is oldest !\")\n",
    "if user2 > user1 and user2 > user3:\n",
    "    print(f\"{user2} is oldest !\")\n",
    "if user3 > user2 and user3 > user1:\n",
    "    print(f\"{user3}  is oldest !\")"
   ]
  },
  {
   "cell_type": "code",
   "execution_count": 15,
   "id": "56520221",
   "metadata": {},
   "outputs": [
    {
     "name": "stdout",
     "output_type": "stream",
     "text": [
      "What you want ? \n",
      " 1.Celsius to Farenheit \n",
      " 2.Farenheit to Celsius  1\n",
      "Enter Celsius: 37\n",
      "Farenheit is 98.6\n"
     ]
    }
   ],
   "source": [
    "# 2. Write a program that will convert celsius value to fahrenheit\n",
    "\n",
    "user = int(input(\"What you want ? \\n 1.Celsius to Farenheit \\n 2.Farenheit to Celsius  \"))\n",
    "\n",
    "if user == 1:\n",
    "    df = float(input(\"Enter Celsius: \"))\n",
    "    df1 = (df*9/5+32)\n",
    "    print(f\"Farenheit is {df1}\")\n",
    "        \n",
    "elif user == 2:\n",
    "    fd = float(input(\"Enter Farenheit: \"))\n",
    "    fd1 = ((fd-32)*5/9)\n",
    "    print(f\"Celsius is {fd1}\")\n",
    "        \n",
    "else:\n",
    "    print(\"Invalid Input !\")"
   ]
  },
  {
   "cell_type": "code",
   "execution_count": 21,
   "id": "4dacf4c5",
   "metadata": {},
   "outputs": [
    {
     "name": "stdout",
     "output_type": "stream",
     "text": [
      "First Number: 2\n",
      "Second Number: 4\n",
      "\n",
      " After Swap ! \n",
      "\n",
      "First Number 4 \n",
      "Second Number 2\n"
     ]
    }
   ],
   "source": [
    "# 3. User will input (2numbers).Write a program to swap the numbers\n",
    "\n",
    "i1 = int(input(\"First Number: \"))\n",
    "i2 = int(input(\"Second Number: \"))\n",
    "temp = a\n",
    "a = i1\n",
    "i1 = i2\n",
    "i2 = a\n",
    "print(\"\\n After Swap ! \\n\")\n",
    "print(f\"First Number {i1} \\nSecond Number {i2}\" )"
   ]
  },
  {
   "cell_type": "code",
   "execution_count": 27,
   "id": "8e4e1e91",
   "metadata": {},
   "outputs": [
    {
     "name": "stdout",
     "output_type": "stream",
     "text": [
      "Enter Three digit Number: 345\n",
      "12\n"
     ]
    }
   ],
   "source": [
    "# 4. Write a program that will give you the sum of 3 digits\n",
    "\n",
    "num = int(input(\"Enter Three digit Number: \"))\n",
    "\n",
    "a = num % 10         # 345 % 10 = 5\n",
    "num= num // 10       # 345 // 10 = 34\n",
    "b= num % 10          # 34 % 10 = 4\n",
    "c = num // 10        # 34 // 10 = 3\n",
    "\n",
    "rev = (a+b+c)\n",
    "\n",
    "print(rev)"
   ]
  },
  {
   "cell_type": "code",
   "execution_count": 1,
   "id": "5f4cd8f6",
   "metadata": {},
   "outputs": [
    {
     "name": "stdout",
     "output_type": "stream",
     "text": [
      "Enter four digit Number:  9648\n",
      "Reverse Number is  8469\n"
     ]
    }
   ],
   "source": [
    "# 5. Write a program that will reverse a four digit number.Also it checks whether the reverse is true.\n",
    "\n",
    "#Easy way - \n",
    "# num = input(\"Enter four digit Number: \")\n",
    "# print(num[::-1])\n",
    "\n",
    "\n",
    "#hard way\n",
    "\n",
    "num = int(input(\"Enter four digit Number:  \"))\n",
    "\n",
    "reverse = 0\n",
    "\n",
    "while num > 0:\n",
    "    a = num % 10                        # Extract last digit\n",
    "    reverse = reverse * 10 + a          # Append a to end of reverse variable\n",
    "    num = num // 10                     # Drop last digit\n",
    "print(\"Reverse Number is \", reverse)"
   ]
  },
  {
   "cell_type": "code",
   "execution_count": 8,
   "id": "f7e4c184",
   "metadata": {},
   "outputs": [
    {
     "name": "stdout",
     "output_type": "stream",
     "text": [
      "Enter Number: 765\n",
      "Odd Number\n"
     ]
    }
   ],
   "source": [
    "# 6. Write a program that will tell whether the number entered by the user is odd or even.\n",
    "\n",
    "num = int(input(\"Enter Number: \"))\n",
    "\n",
    "if num % 2 == 0:\n",
    "    print(\"Even Number\")\n",
    "else:\n",
    "    print(\"Odd Number\")"
   ]
  },
  {
   "cell_type": "code",
   "execution_count": 14,
   "id": "01aac30c",
   "metadata": {},
   "outputs": [
    {
     "name": "stdout",
     "output_type": "stream",
     "text": [
      "Enter Year: 2000\n",
      "leap year \n"
     ]
    }
   ],
   "source": [
    "# 7. Write a program that will tell whether the given year is a leap year or not.\n",
    "\n",
    "year = int(input(\"Enter Year: \"))\n",
    "\n",
    "if ((year % 400 == 0) or (year % 100 != 0) and (year % 4 == 0)):\n",
    "    print(\"leap year \")\n",
    "else:\n",
    "    print(\"Not a leap year \")"
   ]
  },
  {
   "cell_type": "code",
   "execution_count": 2,
   "id": "a4ce3517",
   "metadata": {},
   "outputs": [
    {
     "name": "stdout",
     "output_type": "stream",
     "text": [
      "Enter x1 of x coordinate 22\n",
      "Enter x2 of x coordinate 44\n",
      "Enter y1 of y coordinate 5\n",
      "Enter y2 of y coordinate 55\n",
      "\n",
      "Euclidean distance is 50.0\n"
     ]
    }
   ],
   "source": [
    "# 8. Write a program to find the euclidean distance between two coordinates.\n",
    "#Euclidean distance means - diatance beetween 2 points in graph \n",
    "x1 = float(input(\"Enter x1 of x coordinate \"))\n",
    "x2 = float(input(\"Enter x2 of x coordinate \"))\n",
    "y1 = float(input(\"Enter y1 of y coordinate \"))\n",
    "y2 = float(input(\"Enter y2 of y coordinate \"))\n",
    "\n",
    "d = ((x2-x2)**2 + (y2-y1)**2)**0.5       # **0.5 - square root\n",
    "print(\"\\nEuclidean distance is\",d)"
   ]
  },
  {
   "cell_type": "code",
   "execution_count": 5,
   "id": "6d380282",
   "metadata": {},
   "outputs": [
    {
     "name": "stdout",
     "output_type": "stream",
     "text": [
      "Enter First Angle: 90\n",
      "Enter Second Angle: 45\n",
      "Enter Third Angle: 45\n",
      "It's a Triangle \n"
     ]
    }
   ],
   "source": [
    "# 9. Write a program that take a user input of three angles and will find out whether it can form a triangle or not.\n",
    "\n",
    "a1 = int(input(\"Enter First Angle: \"))\n",
    "a2 = int(input(\"Enter Second Angle: \"))\n",
    "a3 = int(input(\"Enter Third Angle: \"))\n",
    "\n",
    "if a1+a2+a3 == 180 and a1!=0 and a2!=0 and a3!=0:\n",
    "    print(\"It's a Triangle \")\n",
    "else:\n",
    "    print(\"Not a Triangle\")"
   ]
  },
  {
   "cell_type": "code",
   "execution_count": 7,
   "id": "fcbb03c9",
   "metadata": {},
   "outputs": [
    {
     "name": "stdout",
     "output_type": "stream",
     "text": [
      "Enter your Cost Price: 56\n",
      "Enter your Selling Price: 54\n",
      "Loss  2.0\n"
     ]
    }
   ],
   "source": [
    "# 10. Write a program that will take user input of cost price and selling price and determines whether its a loss or a profit\n",
    "cp = float(input(\"Enter your Cost Price: \"))\n",
    "sp = float(input(\"Enter your Selling Price: \"))\n",
    "\n",
    "if cp > sp:\n",
    "    la = cp - sp\n",
    "    print(\"Loss \",la)\n",
    "else:\n",
    "    pa = sp - cp\n",
    "    print(\"Profit\",pa)"
   ]
  },
  {
   "cell_type": "code",
   "execution_count": 10,
   "id": "38cbb061",
   "metadata": {},
   "outputs": [
    {
     "name": "stdout",
     "output_type": "stream",
     "text": [
      "Enter Principal Amount: 5000\n",
      "Enter rate %: 2\n",
      "Enter Time in Year: 1\n",
      "Your simple interest is  100.0\n"
     ]
    }
   ],
   "source": [
    "# 11. Write a program to find the simple interest when the value of principle,rate of interest and time period is given.\n",
    "\n",
    "p = float(input(\"Enter Principal Amount: \"))\n",
    "r = float(input(\"Enter rate %: \"))\n",
    "t = float(input(\"Enter Time in Year: \"))\n",
    "\n",
    "si = (p*r*t)/100\n",
    "print(\"Your simple interest is \",si)"
   ]
  },
  {
   "cell_type": "code",
   "execution_count": null,
   "id": "409869be",
   "metadata": {},
   "outputs": [],
   "source": [
    "\n",
    "\n"
   ]
  }
 ],
 "metadata": {
  "kernelspec": {
   "display_name": "Python 3 (ipykernel)",
   "language": "python",
   "name": "python3"
  },
  "language_info": {
   "codemirror_mode": {
    "name": "ipython",
    "version": 3
   },
   "file_extension": ".py",
   "mimetype": "text/x-python",
   "name": "python",
   "nbconvert_exporter": "python",
   "pygments_lexer": "ipython3",
   "version": "3.10.9"
  }
 },
 "nbformat": 4,
 "nbformat_minor": 5
}
