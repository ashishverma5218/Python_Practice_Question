{
 "cells": [
  {
   "cell_type": "code",
   "execution_count": 5,
   "id": "de9d9d24",
   "metadata": {},
   "outputs": [
    {
     "name": "stdout",
     "output_type": "stream",
     "text": [
      "Enter Number: 10\n",
      "55.0\n"
     ]
    }
   ],
   "source": [
    "# 20.Write a program to find the sum of first n numbers, where n will be provided by the user.\n",
    "# Eg if the user provides n=10 the output should be 55.\n",
    "\n",
    "n = int(input(\"Enter Number: \"))\n",
    "\n",
    "# add=0\n",
    "# for i in range(0,n+1):\n",
    "#     add += i\n",
    "# print(add)\n",
    "\n",
    "\n",
    "#Formula\n",
    "s = n*(n+1)/2\n",
    "print(s)"
   ]
  },
  {
   "cell_type": "code",
   "execution_count": 8,
   "id": "a4f25acb",
   "metadata": {},
   "outputs": [
    {
     "name": "stdout",
     "output_type": "stream",
     "text": [
      "Enter First Number: 12\n",
      "Enter Second Number: 5\n",
      "60\n"
     ]
    }
   ],
   "source": [
    "# 21.Write a program that can multiply 2 numbers provided by the user without using the * operator\n",
    "\n",
    "n1 = int(input(\"Enter First Number: \"))\n",
    "n2 = int(input(\"Enter Second Number: \"))\n",
    "\n",
    "sum = 0\n",
    "\n",
    "for i in range(0,n1):\n",
    "    sum = sum + n2\n",
    "print(sum)"
   ]
  },
  {
   "cell_type": "code",
   "execution_count": 24,
   "id": "f7f8c4d5",
   "metadata": {},
   "outputs": [
    {
     "name": "stdout",
     "output_type": "stream",
     "text": [
      "Enter Number: 5\n",
      "The factorial of 5 is 120\n"
     ]
    }
   ],
   "source": [
    "# 22.Write a program that can find the factorial of a given number provided by the user.\n",
    "\n",
    "n = int(input(\"Enter Number: \"))\n",
    "f = 1\n",
    "\n",
    "if n < 0:\n",
    "    print(\"Not possible for negative number\")\n",
    "elif n == 0:\n",
    "    print(\"factorial of 0 is 1\")\n",
    "else:\n",
    "    for i in range(1,n+1):\n",
    "        f = f*i\n",
    "    print(\"The factorial of\",n,\"is\",f)"
   ]
  },
  {
   "cell_type": "code",
   "execution_count": 29,
   "id": "fddb331d",
   "metadata": {},
   "outputs": [
    {
     "name": "stdout",
     "output_type": "stream",
     "text": [
      "1\n",
      "3\n",
      "5\n",
      "7\n",
      "9\n",
      "11\n",
      "13\n",
      "15\n",
      "17\n",
      "19\n",
      "21\n",
      "23\n",
      "25\n",
      "27\n",
      "29\n",
      "31\n",
      "33\n",
      "35\n",
      "37\n",
      "39\n",
      "41\n",
      "43\n",
      "45\n",
      "47\n",
      "49\n"
     ]
    }
   ],
   "source": [
    "# 23. Write a program to print the first 25 odd numbers.\n",
    "\n",
    "a = 0\n",
    "i = 1\n",
    "\n",
    "while True:\n",
    "    if i % 2 != 0:\n",
    "        print(i)\n",
    "        a = a + 1\n",
    "    if a == 25:\n",
    "        break\n",
    "    i = i + 1\n"
   ]
  },
  {
   "cell_type": "code",
   "execution_count": 11,
   "id": "897bde4a",
   "metadata": {},
   "outputs": [
    {
     "name": "stdout",
     "output_type": "stream",
     "text": [
      "Enter Number: 6\n",
      "6 is not a prime number\n"
     ]
    }
   ],
   "source": [
    "# 24.Write a program to print whether a given number is prime number or not\n",
    "\n",
    "#Prime numbers are natural numbers that are divisible by only 1 and the number itself.\n",
    "\n",
    "num = int(input(\"Enter Number: \"))\n",
    "\n",
    "if num == 2:\n",
    "    print(\"Prime Number\")\n",
    "elif num > 1:\n",
    "    for i in range(2,num):\n",
    "        if(num%i) == 0:\n",
    "            print(num,'is not a prime number')\n",
    "            break\n",
    "        else:\n",
    "            print(num,'is a prime number')\n",
    "            break"
   ]
  },
  {
   "cell_type": "code",
   "execution_count": 16,
   "id": "46f9c6cb",
   "metadata": {},
   "outputs": [
    {
     "name": "stdout",
     "output_type": "stream",
     "text": [
      "153\n",
      "370\n",
      "371\n",
      "407\n"
     ]
    }
   ],
   "source": [
    "# 25.Print all the armstrong numbers in the range of 100 to 1000\n",
    "\n",
    "for num in range(100,1000):\n",
    "    i=num\n",
    "    a = num % 10\n",
    "    num = num // 10\n",
    "    b = num % 10\n",
    "    c = num // 10\n",
    "    \n",
    "    if (a**3) + (b**3) + (c**3) ==i:\n",
    "        print(i)\n",
    "    i = i + 1"
   ]
  },
  {
   "cell_type": "code",
   "execution_count": 1,
   "id": "357a7d98",
   "metadata": {},
   "outputs": [
    {
     "name": "stdout",
     "output_type": "stream",
     "text": [
      "10000\n",
      "9000\n",
      "8100\n",
      "7290\n",
      "6561\n",
      "5904\n",
      "5314\n",
      "4782\n",
      "4304\n",
      "3874\n"
     ]
    }
   ],
   "source": [
    "# 26.The current population of a town is 10000. The population of the town is increasing at the rate of 10% per year.\n",
    "# You have to write a program to find out the population at the end of each of the last 10 years. For eg current population is \n",
    "# 10000 so the output should be like this:\n",
    "\n",
    "# 10th year - 10000\n",
    "# 9th year - 9000\n",
    "# 8th year - 8100 and so on\n",
    "\n",
    "a = 0\n",
    "p = 10000\n",
    "print(p)\n",
    "\n",
    "while True:\n",
    "    b = (p) - ((10*p)/100)\n",
    "    p = b\n",
    "    print(int(b))\n",
    "    a = a + 1\n",
    "    \n",
    "    if a == 9:\n",
    "        break"
   ]
  },
  {
   "cell_type": "code",
   "execution_count": 2,
   "id": "320a2130",
   "metadata": {},
   "outputs": [
    {
     "name": "stdout",
     "output_type": "stream",
     "text": [
      "1 2\n",
      "1 3\n",
      "1 4\n",
      "2 1\n",
      "2 3\n",
      "2 4\n",
      "3 1\n",
      "3 2\n",
      "3 4\n",
      "4 1\n",
      "4 2\n",
      "4 3\n"
     ]
    }
   ],
   "source": [
    "# 27. Write a program to print all the unique combinations of 1,2,3 and 4\n",
    "\n",
    "for i in range(1,5):\n",
    "    for j in range(1,5):\n",
    "        if i != j:\n",
    "            print(i,j)"
   ]
  },
  {
   "cell_type": "code",
   "execution_count": 12,
   "id": "d0683031",
   "metadata": {},
   "outputs": [
    {
     "name": "stdout",
     "output_type": "stream",
     "text": [
      "Enter First Number: 2\n",
      "Enter Second Number: 4\n",
      "Your HCF is: 2\n"
     ]
    }
   ],
   "source": [
    "# 28.User will provide 2 numbers you have to find the HCF of those 2 numbers\n",
    "\n",
    "n1 = int(input(\"Enter First Number: \"))\n",
    "n2 = int(input(\"Enter Second Number: \"))\n",
    "\n",
    "while n1 % n2 != 0:\n",
    "    rem = n1 % n2\n",
    "    n1 = n2\n",
    "    n2 = rem\n",
    "print(\"Your HCF is:\",n2)"
   ]
  },
  {
   "cell_type": "code",
   "execution_count": 13,
   "id": "62ef97a5",
   "metadata": {},
   "outputs": [
    {
     "name": "stdout",
     "output_type": "stream",
     "text": [
      "Enter the first number:5\n",
      "Enter the second number:3\n",
      "LCM is: 15\n"
     ]
    }
   ],
   "source": [
    "# 29.User will provide 2 numbers you have to find the by LCM of those 2numbers\n",
    "\n",
    "a=int(input(\"Enter the first number:\"))\n",
    "b=int(input(\"Enter the second number:\"))\n",
    "if(a>b):\n",
    "    min1=a\n",
    "else:\n",
    "    min1=b\n",
    "while(1):\n",
    "    if(min1%a==0 and min1%b==0):\n",
    "        print(\"LCM is:\",min1)\n",
    "        break\n",
    "    min1=min1+1"
   ]
  },
  {
   "cell_type": "code",
   "execution_count": 2,
   "id": "d1002bd9",
   "metadata": {},
   "outputs": [
    {
     "name": "stdout",
     "output_type": "stream",
     "text": [
      "2\n",
      "3\n",
      "5\n",
      "7\n",
      "11\n",
      "13\n",
      "17\n",
      "19\n",
      "23\n",
      "29\n",
      "31\n",
      "37\n",
      "41\n",
      "43\n",
      "47\n",
      "53\n",
      "59\n",
      "61\n",
      "67\n",
      "71\n",
      "73\n",
      "79\n",
      "83\n",
      "89\n",
      "97\n",
      "101\n"
     ]
    }
   ],
   "source": [
    "# 30.Print first 25 prime numbers\n",
    "\n",
    "a = 0\n",
    "num = 2\n",
    "\n",
    "while (a <= 25):\n",
    "    for i in range(2,num):\n",
    "        if num % i == 0:\n",
    "            break\n",
    "    else:\n",
    "        print(num)\n",
    "        a = a + 1\n",
    "    num = num + 1"
   ]
  }
 ],
 "metadata": {
  "kernelspec": {
   "display_name": "Python 3 (ipykernel)",
   "language": "python",
   "name": "python3"
  },
  "language_info": {
   "codemirror_mode": {
    "name": "ipython",
    "version": 3
   },
   "file_extension": ".py",
   "mimetype": "text/x-python",
   "name": "python",
   "nbconvert_exporter": "python",
   "pygments_lexer": "ipython3",
   "version": "3.10.6"
  }
 },
 "nbformat": 4,
 "nbformat_minor": 5
}
