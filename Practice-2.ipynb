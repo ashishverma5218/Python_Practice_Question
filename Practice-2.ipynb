{
 "cells": [
  {
   "cell_type": "code",
   "execution_count": 2,
   "id": "e70f0437",
   "metadata": {},
   "outputs": [
    {
     "name": "stdout",
     "output_type": "stream",
     "text": [
      "Enter radius: 4\n",
      "Enter height: 7\n",
      "Volume is:  351.68\n",
      "Cost of 1 ltr. is Rs. 14.0672\n"
     ]
    }
   ],
   "source": [
    "# 12. Write a program to find the volume of the cylinder. Also find the cost when the cost of 1 litre milk is 40Rs.\n",
    "\n",
    "r = float(input(\"Enter radius: \"))\n",
    "h = float(input(\"Enter height: \"))\n",
    "\n",
    "v = 3.14*(r**2)*h\n",
    "\n",
    "print(\"Volume is: \",v)\n",
    "\n",
    "cost = v/1000*40\n",
    "print(\"Cost of 1 ltr. is Rs.\",cost)"
   ]
  },
  {
   "cell_type": "code",
   "execution_count": 6,
   "id": "95cdfdb1",
   "metadata": {},
   "outputs": [
    {
     "name": "stdout",
     "output_type": "stream",
     "text": [
      "Enter Number: 6\n",
      "Divisible\n"
     ]
    }
   ],
   "source": [
    "# 13. Write a program that will tell whether the given number is divisible by 3 & 6.\n",
    "\n",
    "i = int(input(\"Enter Number: \"))\n",
    "\n",
    "if i%3 == 0 and i%6 == 0 :\n",
    "    print(\"Divisible\")\n",
    "else:\n",
    "    print(\"Not Divisible\")"
   ]
  },
  {
   "cell_type": "code",
   "execution_count": 2,
   "id": "396076a5",
   "metadata": {},
   "outputs": [
    {
     "name": "stdout",
     "output_type": "stream",
     "text": [
      "Enter Temerature: 34\n",
      "Enter humidity: 67\n",
      "Hot\n"
     ]
    }
   ],
   "source": [
    "# 14. Write a program that will determine weather when the value of temperature and humidity is provided by the user.\n",
    "\n",
    "# TEMPERATURE(C)          HUMIDITY(%)          WEATHER\n",
    "# >= 30                      >=90            Hot and Humid\n",
    "# >= 30                      < 90               Hot\n",
    "# <30                        >= 90           Cool and Humid\n",
    "# <30                        <90                Cool\n",
    "\n",
    "\n",
    "t = int(input(\"Enter Temerature: \"))\n",
    "h = int(input(\"Enter humidity: \"))\n",
    "\n",
    "if t>=30 and h>=90:\n",
    "    print(\"Hot and Humid \")\n",
    "elif t>=30 and h<90:\n",
    "    print(\"Hot\")\n",
    "elif t<30 and h>=90:\n",
    "    print(\"Cool and Humid\")\n",
    "elif t<30 and h<90:\n",
    "    print(\"Cool\")\n",
    "else:\n",
    "    print(\"Envalid Input !\")"
   ]
  },
  {
   "cell_type": "code",
   "execution_count": 6,
   "id": "b21eaf96",
   "metadata": {},
   "outputs": [
    {
     "name": "stdout",
     "output_type": "stream",
     "text": [
      "Enter Three digit number: 456\n",
      "77\n"
     ]
    }
   ],
   "source": [
    "# 15. Write a program that will take three digits from the user and add the square of each digit.\n",
    "\n",
    "num = int(input(\"Enter Three digit number: \"))\n",
    "\n",
    "a = num % 10\n",
    "num = num // 10\n",
    "b = num % 10\n",
    "c = num // 10\n",
    "\n",
    "add = (a**2) + (b**2) + (c**2)\n",
    "\n",
    "print(add)"
   ]
  },
  {
   "cell_type": "code",
   "execution_count": 8,
   "id": "3f3e2a7f",
   "metadata": {},
   "outputs": [
    {
     "name": "stdout",
     "output_type": "stream",
     "text": [
      "Enter number: 153\n",
      "153 is an Armstrong number\n"
     ]
    }
   ],
   "source": [
    "# 16. Write a program that will check whether the number is armstrong number(narcissist number) or not.\n",
    "\n",
    "# An Armstrong number is one whose sum of digits raised to the power three equals the number itself\n",
    "\n",
    "num = int(input(\"Enter number: \"))\n",
    "\n",
    "# Changed num variable to string,and calculated the length (number of digits)\n",
    "order = len(str(num))\n",
    "\n",
    "# initialize sum\n",
    "sum = 0\n",
    "\n",
    "# find the sum of the cube of each digit\n",
    "temp = num\n",
    "while temp > 0:\n",
    "   digit = temp % 10\n",
    "   sum += digit ** order\n",
    "   temp //= 10\n",
    "\n",
    "# display the result\n",
    "if num == sum:\n",
    "   print(num,\"is an Armstrong number\")\n",
    "else:\n",
    "   print(num,\"is not an Armstrong number\")\n"
   ]
  },
  {
   "cell_type": "code",
   "execution_count": 8,
   "id": "c9cb7158",
   "metadata": {},
   "outputs": [
    {
     "name": "stdout",
     "output_type": "stream",
     "text": [
      "Enter Your Annual Salary: 2200000\n",
      "After deduction hra,da,pf and 30% Tax on your salary:  1262800.0\n"
     ]
    }
   ],
   "source": [
    "# 17. Write a program that will give you the in hand salary after deduction of HRA(10%),DA(5%),PF(3%),and tax if salary is \n",
    "# between (0-3 lakh -0%)(3-6 lakh–5%),(6-9lakh–10%),(9-12 Lack– 15%),(12-15 Lack– 20%),(15 Lack < – 30%).\n",
    "\n",
    "s = int(input(\"Enter Your Annual Salary: \"))\n",
    "\n",
    "hra = (10/100)*s\n",
    "da = (5/100)*s\n",
    "pf = (3/100)*s\n",
    "\n",
    "deduction = hra + da + pf\n",
    "ad = s-deduction\n",
    "\n",
    "# #Tax\n",
    "\n",
    "if (s >=0 and s < 300000):\n",
    "    print(\"After deduction hra,da,pf of your salary: \",ad)\n",
    "    print(\"No tax for you !\")\n",
    "if (s >= 300001 and s <= 600000):\n",
    "    at1 = (5/100)*ad\n",
    "    at11= ad - at1\n",
    "    print(\"After deduction hra,da,pf and 5% Tax on your salary: \",at11)\n",
    "if (s >= 600001 and s <= 900000):\n",
    "    at2 = (10/100)*ad\n",
    "    at12= ad - at2\n",
    "    print(\"After deduction hra,da,pf and 10% Tax on your salary: \",at12)\n",
    "if (s >= 900001 and s <= 1200000):\n",
    "    at3 = (15/100)*ad\n",
    "    at13= ad - at3\n",
    "    print(\"After deduction hra,da,pf and 15% Tax on your salary: \",at13)\n",
    "if (s >= 1200001 and s <= 1500000):\n",
    "    at4 = (20/100)*ad\n",
    "    at14= ad - at4\n",
    "    print(\"After deduction hra,da,pf and 20% Tax on your salary: \",at14)\n",
    "if (s>=1500001):\n",
    "    at5 = (30/100)*ad\n",
    "    at15= ad - at5\n",
    "    print(\"After deduction hra,da,pf and 30% Tax on your salary: \",at15)"
   ]
  },
  {
   "cell_type": "code",
   "execution_count": 20,
   "id": "1fcb24af",
   "metadata": {},
   "outputs": [
    {
     "name": "stdout",
     "output_type": "stream",
     "text": [
      "What you want to do ? 1.cm to ft 2.kl to miles 3.usd to inr 4.exit: 4\n",
      "Exit\n"
     ]
    }
   ],
   "source": [
    "# 18. Write a menu driven program - 1.cm to ft 2.kl to miles 3.usd to inr 4.exit\n",
    "\n",
    "i = int(input(\"What you want to do ? 1.cm to ft 2.kl to miles 3.usd to inr 4.exit: \"))\n",
    "\n",
    "if i==1:\n",
    "    cm =int(input(\"Enter cm: \"))\n",
    "    ft = (cm*0.0328084)\n",
    "    print(ft)\n",
    "elif i==2:\n",
    "    km = int(input(\"Enter km: \"))\n",
    "    ms = (km*0.62137119)\n",
    "    print(ms)\n",
    "elif i==3:\n",
    "    usd = int(input(\"Enter USD $:\" ))\n",
    "    rs = (usd*82.88)\n",
    "    print(rs)\n",
    "elif i==4:\n",
    "    print(\"Exit\")\n",
    "else:\n",
    "    print(\"Invalid input !\")"
   ]
  },
  {
   "cell_type": "code",
   "execution_count": 22,
   "id": "f93ef225",
   "metadata": {},
   "outputs": [
    {
     "name": "stdout",
     "output_type": "stream",
     "text": [
      "Enter 1st:12\n",
      "Enter 2nd:10\n",
      "Value of x: 10\n",
      "Value of y: 12\n"
     ]
    }
   ],
   "source": [
    "# 19.Write a program that will swap two numbers\n",
    "\n",
    "x = int(input(\"Enter 1st:\"))\n",
    "y = int(input(\"Enter 2nd:\"))\n",
    " \n",
    "x, y = y, x\n",
    " \n",
    "print(\"Value of x:\", x)\n",
    "print(\"Value of y:\", y)"
   ]
  },
  {
   "cell_type": "code",
   "execution_count": null,
   "id": "2f34b6be",
   "metadata": {},
   "outputs": [],
   "source": []
  }
 ],
 "metadata": {
  "kernelspec": {
   "display_name": "Python 3 (ipykernel)",
   "language": "python",
   "name": "python3"
  },
  "language_info": {
   "codemirror_mode": {
    "name": "ipython",
    "version": 3
   },
   "file_extension": ".py",
   "mimetype": "text/x-python",
   "name": "python",
   "nbconvert_exporter": "python",
   "pygments_lexer": "ipython3",
   "version": "3.10.6"
  }
 },
 "nbformat": 4,
 "nbformat_minor": 5
}
