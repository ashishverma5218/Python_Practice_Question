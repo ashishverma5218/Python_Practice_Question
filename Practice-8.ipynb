{
 "cells": [
  {
   "cell_type": "code",
   "execution_count": 1,
   "id": "1ec537cf",
   "metadata": {},
   "outputs": [
    {
     "name": "stdout",
     "output_type": "stream",
     "text": [
      "Enter number b/w 1-10 : 5\n",
      "high\n",
      "you took 1 chance\n",
      "play_again: y\n",
      "Enter number b/w 1-10 : 3\n",
      "high\n",
      "you took 2 chance\n",
      "play_again: y\n",
      "Enter number b/w 1-10 : 1\n",
      "high\n",
      "you took 3 chance\n",
      "play_again: n\n"
     ]
    }
   ],
   "source": [
    "#guess number\n",
    "\n",
    "import random\n",
    "count = 0\n",
    "while True:\n",
    "    a= int(input(\"Enter number b/w 1-10 : \"))\n",
    "    c= random.randint(1,10)\n",
    "\n",
    "    if a<c:\n",
    "        print(\"high\")\n",
    "    elif a>c:\n",
    "        print(\"low\")\n",
    "    else:\n",
    "        print(\"you win\")\n",
    "        break\n",
    "    count += 1\n",
    "    print(\"you took\",count,\"chance\")\n",
    "    play_again = input(\"play_again: \")\n",
    "    if play_again.lower() != \"y\":\n",
    "        break"
   ]
  },
  {
   "cell_type": "code",
   "execution_count": 5,
   "id": "83be79eb",
   "metadata": {},
   "outputs": [
    {
     "name": "stdout",
     "output_type": "stream",
     "text": [
      "Enter rows: 4\n",
      "* \n",
      "* * \n",
      "* * * \n",
      "* * * * \n"
     ]
    }
   ],
   "source": [
    "rows = int(input(\"Enter rows: \"))\n",
    "\n",
    "for i in range(1,rows+1):\n",
    "    for j in range(0,i):\n",
    "        print(\"*\",end=\" \")\n",
    "    print(\"\")"
   ]
  },
  {
   "cell_type": "code",
   "execution_count": 1,
   "id": "a1d23c12",
   "metadata": {},
   "outputs": [
    {
     "name": "stdout",
     "output_type": "stream",
     "text": [
      "    *\n",
      "   **\n",
      "  ***\n",
      " ****\n",
      "*****\n"
     ]
    }
   ],
   "source": [
    "height = 5\n",
    "for row in range(1, height+ 1):\n",
    "    print(\" \" * (height - row) +\"*\" * row)"
   ]
  },
  {
   "cell_type": "code",
   "execution_count": 1,
   "id": "345603bb",
   "metadata": {},
   "outputs": [
    {
     "name": "stdout",
     "output_type": "stream",
     "text": [
      "area of circle is   : 12.56\n",
      "Circumtance of circle : 12.56\n"
     ]
    }
   ],
   "source": [
    "#Area and circumtance of circle\n",
    "r=2.0\n",
    "ar=3.14*r*r\n",
    "cr=2*3.14*r\n",
    "print(\"area of circle is   :\",ar)\n",
    "print(\"Circumtance of circle :\",cr)\n"
   ]
  },
  {
   "cell_type": "code",
   "execution_count": 2,
   "id": "44887124",
   "metadata": {},
   "outputs": [
    {
     "name": "stdout",
     "output_type": "stream",
     "text": [
      "Enter Radius:12\n",
      "Area: 452.15999999999997\n",
      "circumference 75.36\n"
     ]
    }
   ],
   "source": [
    "# with user input\n",
    "n1=float(input(\"Enter Radius:\"))\n",
    "n2=3.14*n1*n1\n",
    "n3=2*3.14*n1\n",
    "print(\"Area:\",n2)\n",
    "print(\"circumference\",n3)"
   ]
  },
  {
   "cell_type": "code",
   "execution_count": 3,
   "id": "f6fa402d",
   "metadata": {},
   "outputs": [
    {
     "name": "stdout",
     "output_type": "stream",
     "text": [
      "Enter Value:540\n",
      "100: 5 50: 0 20: 2 10: 0 5: 0 2: 0 1: 0\n"
     ]
    }
   ],
   "source": [
    "#How many note in any input\n",
    "a=int(input(\"Enter Value:\"))\n",
    "_100=int(a/100)\n",
    "_50=int((a%100)/50)\n",
    "_20=int(((a%100)%50)/20)\n",
    "_10=int((((a%100)%50)%20)/10)\n",
    "_5=int(((((a%100)%50)%20)%10)/5)\n",
    "_2=int((((((a%100)%50)%20)%10)%5)/2)\n",
    "_1=int(((((((a%100)%50)%20)%10)%5)%2)/1)\n",
    "print(\"100:\",_100,\"50:\",_50,\"20:\",_20,\"10:\",_10,\"5:\",_5,\"2:\",_2,\"1:\",_1)"
   ]
  },
  {
   "cell_type": "code",
   "execution_count": 4,
   "id": "e760884d",
   "metadata": {},
   "outputs": [
    {
     "name": "stdout",
     "output_type": "stream",
     "text": [
      "Enter any Number: 2345\n",
      "Second Last digit of number 4\n"
     ]
    }
   ],
   "source": [
    "#print second last digit of number\n",
    "\n",
    "num = int(input(\"Enter any Number: \"))\n",
    "sl = num%100//10\n",
    "print(\"Second Last digit of number\",sl)"
   ]
  },
  {
   "cell_type": "code",
   "execution_count": 5,
   "id": "4ebdc223",
   "metadata": {},
   "outputs": [
    {
     "name": "stdout",
     "output_type": "stream",
     "text": [
      "enter Dividend 45\n",
      "enter Divisor 3\n",
      "Quotient =  15 Reminder =  0\n"
     ]
    }
   ],
   "source": [
    "# 13 Program to integral quotient and remainder of a division\n",
    "\n",
    "n=int(input(\"enter Dividend \"))\n",
    "t=int(input(\"enter Divisor \"))\n",
    "print(\"Quotient = \",(n//t),\"Reminder = \",(n%t))\n"
   ]
  },
  {
   "cell_type": "code",
   "execution_count": 6,
   "id": "030a0a43",
   "metadata": {},
   "outputs": [
    {
     "name": "stdout",
     "output_type": "stream",
     "text": [
      "Enter first number :34\n",
      "Enter second number :44\n",
      "Enter third number :55\n",
      "66\n"
     ]
    }
   ],
   "source": [
    "#average of three number\n",
    "\n",
    "n1 = int(input(\"Enter first number :\"))\n",
    "n2 = int(input(\"Enter second number :\"))\n",
    "n3 = int(input(\"Enter third number :\"))\n",
    "avg =(n1+n2+n3)//2\n",
    "print(avg)"
   ]
  },
  {
   "cell_type": "code",
   "execution_count": 7,
   "id": "bc06e6d5",
   "metadata": {},
   "outputs": [
    {
     "name": "stdout",
     "output_type": "stream",
     "text": [
      "Before  swapping :\n",
      "a =  7 b =  5\n",
      "After swapping :\n",
      "a =  5 b =  7\n"
     ]
    }
   ],
   "source": [
    "#write a python program to swap two numbers using bitwise xor operater without using third variable\n",
    "a = 7\n",
    "b = 5\n",
    "print(\"Before  swapping :\")\n",
    "print(\"a = \",a,\"b = \",b)\n",
    "a = a^b\n",
    "b = a^b\n",
    "a = a^b\n",
    "print(\"After swapping :\")\n",
    "print(\"a = \",a,\"b = \",b)"
   ]
  },
  {
   "cell_type": "code",
   "execution_count": 9,
   "id": "ec40107c",
   "metadata": {},
   "outputs": [
    {
     "name": "stdout",
     "output_type": "stream",
     "text": [
      "Enter Any charecter: a\n",
      "LowerCase\n"
     ]
    }
   ],
   "source": [
    "#check character is lowercase or uppercase\n",
    "ch = input(\"Enter Any charecter: \")\n",
    "if ch>='A' and ch<='Z':\n",
    "    print(\"UpperCase\")\n",
    "elif ch>='a' and ch<='z':\n",
    "    print(\"LowerCase\")\n",
    "else:\n",
    "    print(\"Not a Alphabatic\")\n"
   ]
  },
  {
   "cell_type": "code",
   "execution_count": 13,
   "id": "6cc09c74",
   "metadata": {},
   "outputs": [
    {
     "name": "stdout",
     "output_type": "stream",
     "text": [
      "Enter any number: 2\n",
      "Prime number\n"
     ]
    }
   ],
   "source": [
    "#prime or not prime\n",
    "n = int(input(\"Enter any number: \"))\n",
    "if  n%1==0 & n%2==0:\n",
    "    print(\"Prime number\")\n",
    "else:\n",
    "    print(\"Not Prime\")\n"
   ]
  },
  {
   "cell_type": "code",
   "execution_count": 14,
   "id": "06d21165",
   "metadata": {},
   "outputs": [
    {
     "name": "stdout",
     "output_type": "stream",
     "text": [
      "Enter any number: 2\n",
      "2  *  10  =  20\n",
      "2  *  9  =  18\n",
      "2  *  8  =  16\n",
      "2  *  7  =  14\n",
      "2  *  6  =  12\n",
      "2  *  5  =  10\n",
      "2  *  4  =  8\n",
      "2  *  3  =  6\n",
      "2  *  2  =  4\n",
      "2  *  1  =  2\n"
     ]
    }
   ],
   "source": [
    "#print table\n",
    "a = int(input(\"Enter any number: \"))\n",
    "i=10\n",
    "while i >= 1:\n",
    "   print(a,\" * \",i,\" = \",a*i)\n",
    "   i =i-1"
   ]
  },
  {
   "cell_type": "code",
   "execution_count": 16,
   "id": "4b204b8b",
   "metadata": {},
   "outputs": [
    {
     "name": "stdout",
     "output_type": "stream",
     "text": [
      "Enter any number: 34\n",
      "sum of digits : 7\n"
     ]
    }
   ],
   "source": [
    "# sum of 2 digits\n",
    "\n",
    "n = int(input(\"Enter any number: \"))\n",
    "s = 0\n",
    "while n!=0:\n",
    "   r=n%10\n",
    "   s=s+r\n",
    "   n=n//10\n",
    "print(\"sum of digits :\",s)\n"
   ]
  },
  {
   "cell_type": "code",
   "execution_count": 18,
   "id": "18dfe817",
   "metadata": {},
   "outputs": [
    {
     "name": "stdout",
     "output_type": "stream",
     "text": [
      "Enter any number: 5\n",
      "factorial of  5 = 120\n"
     ]
    }
   ],
   "source": [
    "#factorial\n",
    "\n",
    "n = int(input(\"Enter any number: \"))\n",
    "f=1\n",
    "i=n\n",
    "while i>=1:\n",
    "   f=f*i\n",
    "   i=i-1\n",
    "print(\"factorial of \",n,\"=\",f)"
   ]
  }
 ],
 "metadata": {
  "kernelspec": {
   "display_name": "Python 3 (ipykernel)",
   "language": "python",
   "name": "python3"
  },
  "language_info": {
   "codemirror_mode": {
    "name": "ipython",
    "version": 3
   },
   "file_extension": ".py",
   "mimetype": "text/x-python",
   "name": "python",
   "nbconvert_exporter": "python",
   "pygments_lexer": "ipython3",
   "version": "3.10.6"
  }
 },
 "nbformat": 4,
 "nbformat_minor": 5
}
