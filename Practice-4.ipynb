{
 "cells": [
  {
   "cell_type": "code",
   "execution_count": 6,
   "id": "cf44eccd",
   "metadata": {},
   "outputs": [
    {
     "name": "stdout",
     "output_type": "stream",
     "text": [
      "0 1 1 2 3 5 8 13 21 34 55 89 144 233 377 610 987 1597 2584 4181 "
     ]
    }
   ],
   "source": [
    "# 31.Print the first 20 numbers of a Fibonacci series\n",
    "\n",
    "num = 20\n",
    "\n",
    "f1 = 0\n",
    "f2 = 1\n",
    "\n",
    "for i in range(num):\n",
    "    print(f1,end=\" \")\n",
    "    fn = f1 + f2\n",
    "    f1 = f2\n",
    "    f2 = fn"
   ]
  },
  {
   "cell_type": "code",
   "execution_count": 10,
   "id": "e0440b0c",
   "metadata": {},
   "outputs": [
    {
     "name": "stdout",
     "output_type": "stream",
     "text": [
      "Enter Principal Amount: 5000\n",
      "Enter rate %: 5\n",
      "Enter Time in Year: 12\n",
      "3979.2816301106504\n"
     ]
    }
   ],
   "source": [
    "# 32.Write a program to find the compound interest\n",
    "\n",
    "p = float(input(\"Enter Principal Amount: \"))\n",
    "r = float(input(\"Enter rate %: \"))\n",
    "t = float(input(\"Enter Time in Months: \"))\n",
    "\n",
    "a=p*(1+(r/100))**t\n",
    "ci=a-p\n",
    "\n",
    "print(ci)"
   ]
  },
  {
   "cell_type": "code",
   "execution_count": 2,
   "id": "63cf109c",
   "metadata": {},
   "outputs": [
    {
     "name": "stdout",
     "output_type": "stream",
     "text": [
      "Enter your Number:2\n",
      "2\n",
      "22\n",
      "222\n",
      "246\n"
     ]
    }
   ],
   "source": [
    "# 33.Write a Python program that accepts an integer (n) and computes the value of n+nn+nnn.\n",
    "\n",
    "n = input(\"Enter your Number:\")\n",
    "\n",
    "print(n)\n",
    "print(n + n)\n",
    "print(n + n + n)\n",
    "\n",
    "c = int(n) + int(nn) + int(nnn)\n",
    "print(c)"
   ]
  },
  {
   "cell_type": "code",
   "execution_count": 6,
   "id": "11035226",
   "metadata": {},
   "outputs": [
    {
     "name": "stdout",
     "output_type": "stream",
     "text": [
      "Enter your Number:4555\n",
      "Number of digits  4\n"
     ]
    }
   ],
   "source": [
    "# 34.Take a number from the user and find the number of digits in it.\n",
    "\n",
    "a = int(input(\"Enter your Number:\"))\n",
    "\n",
    "count = 0\n",
    "\n",
    "while (a > 0):\n",
    "    a = a // 10\n",
    "    count = count + 1\n",
    "print(\"Number of digits \",count)"
   ]
  },
  {
   "cell_type": "code",
   "execution_count": 8,
   "id": "f157b6d4",
   "metadata": {},
   "outputs": [
    {
     "name": "stdout",
     "output_type": "stream",
     "text": [
      "Enter your Number:45\n",
      "1\n",
      "3\n",
      "5\n",
      "9\n",
      "15\n",
      "45\n"
     ]
    }
   ],
   "source": [
    "# 35.Print all factors of a given number provided by the user\n",
    "\n",
    "num = int(input(\"Enter your Number:\"))\n",
    "\n",
    "for i in range(1,num +1):\n",
    "    if num % i == 0:\n",
    "        print(i)"
   ]
  },
  {
   "cell_type": "code",
   "execution_count": 9,
   "id": "d3410ef4",
   "metadata": {},
   "outputs": [
    {
     "name": "stdout",
     "output_type": "stream",
     "text": [
      "Enter your Number:345\n",
      "543\n"
     ]
    }
   ],
   "source": [
    "# 36. Find the reverse of a number provided by the user(any number of digit)\n",
    "\n",
    "num = int(input(\"Enter your Number:\"))\n",
    "\n",
    "rev = 0\n",
    "\n",
    "while (num > 0):\n",
    "    rem = num % 10\n",
    "    num = num // 10\n",
    "    rev = (rev * 10) + rem\n",
    "print(rev)"
   ]
  },
  {
   "cell_type": "code",
   "execution_count": 15,
   "id": "65d9a9d6",
   "metadata": {},
   "outputs": [
    {
     "name": "stdout",
     "output_type": "stream",
     "text": [
      "*\n",
      "**\n",
      "***\n",
      "****\n",
      "*****\n"
     ]
    }
   ],
   "source": [
    "# 37. Write a program to print the following pattern\n",
    "# *\n",
    "# **\n",
    "# ***\n",
    "# ****\n",
    "# *****\n",
    "\n",
    "for i in range(1,6):\n",
    "    for j in range(0,i):\n",
    "        print(\"*\",end=\"\")\n",
    "    print(\"\")"
   ]
  },
  {
   "cell_type": "code",
   "execution_count": 22,
   "id": "9612b644",
   "metadata": {},
   "outputs": [
    {
     "name": "stdout",
     "output_type": "stream",
     "text": [
      "*\n",
      "**\n",
      "***\n",
      "**\n",
      "*\n",
      "\n"
     ]
    }
   ],
   "source": [
    "#38 .Write a program to print the following pattern\n",
    "# *\n",
    "# **\n",
    "# ***\n",
    "# **\n",
    "# *\n",
    "\n",
    "for i in range(1,4):\n",
    "    for j in range(0,i):\n",
    "        print(\"*\",end=\"\")\n",
    "    print(\"\")\n",
    "    \n",
    "for k in range(3,0,-1):\n",
    "    for l in range(0,k-1):\n",
    "        print(\"*\",end=\"\")\n",
    "    print(\"\")"
   ]
  },
  {
   "cell_type": "code",
   "execution_count": 38,
   "id": "f631954c",
   "metadata": {},
   "outputs": [
    {
     "name": "stdout",
     "output_type": "stream",
     "text": [
      "         * \n",
      "       * * * \n",
      "     * * * * * \n",
      "   * * * * * * * \n",
      " * * * * * * * * * \n"
     ]
    }
   ],
   "source": [
    "# 39.Write a program to print the following pattern\n",
    "#                      * \n",
    "#                    * * *\n",
    "#                  * * * * *\n",
    "#                * * * * * * *\n",
    "#              * * * * * * * * *\n",
    "\n",
    "for i in range(0,10,2):\n",
    "    for j in range(0,10-i-1):\n",
    "        print(end=\" \")\n",
    "    for k in range(0,i+1):\n",
    "        print(\"*\",end=\" \")\n",
    "    print()"
   ]
  },
  {
   "cell_type": "code",
   "execution_count": 43,
   "id": "f0b4ed81",
   "metadata": {},
   "outputs": [
    {
     "name": "stdout",
     "output_type": "stream",
     "text": [
      "Enter number of rows: 6\n",
      " \n",
      "1  \n",
      "1 2 1  \n",
      "1 2 3 2 1  \n",
      "1 2 3 4 3 2 1  \n",
      "1 2 3 4 5 4 3 2 1  \n"
     ]
    }
   ],
   "source": [
    "# 40.Write a program to print the following pattern\n",
    "# 1\n",
    "# 1 2 1\n",
    "# 1 2 3 2 1\n",
    "# 1 2 3 4 3 2 1\n",
    "# 1 2 3 4 5 4 3 2 1\n",
    "\n",
    "row = int(input(\"Enter number of rows: \"))\n",
    "          \n",
    "for i in range(1,row + 1):\n",
    "    for j in range(1,i-1):\n",
    "        print(j,end = ' ')\n",
    "    for k in range(i-1,0,-1):\n",
    "          print(k,end=\" \")\n",
    "    print(\" \")"
   ]
  },
  {
   "cell_type": "code",
   "execution_count": 64,
   "id": "5e1390a3",
   "metadata": {},
   "outputs": [
    {
     "name": "stdout",
     "output_type": "stream",
     "text": [
      "1  \n",
      "2 3  \n",
      "4 5 6  \n",
      "7 8 9 10  \n"
     ]
    }
   ],
   "source": [
    "# 41.Write a program to print the following pattern\n",
    "# 1\n",
    "# 2 3\n",
    "# 4 5 6\n",
    "# 7 8 9 10\n",
    "\n",
    "num = 1\n",
    "for i in range(1,5):\n",
    "    for j in range(1,i+1):\n",
    "        print(num,end=\" \")\n",
    "        num = num + 1\n",
    "    print(\" \")"
   ]
  },
  {
   "cell_type": "code",
   "execution_count": null,
   "id": "2c65964b",
   "metadata": {},
   "outputs": [],
   "source": []
  }
 ],
 "metadata": {
  "kernelspec": {
   "display_name": "Python 3 (ipykernel)",
   "language": "python",
   "name": "python3"
  },
  "language_info": {
   "codemirror_mode": {
    "name": "ipython",
    "version": 3
   },
   "file_extension": ".py",
   "mimetype": "text/x-python",
   "name": "python",
   "nbconvert_exporter": "python",
   "pygments_lexer": "ipython3",
   "version": "3.10.6"
  }
 },
 "nbformat": 4,
 "nbformat_minor": 5
}
