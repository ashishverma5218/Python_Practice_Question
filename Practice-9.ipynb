{
 "cells": [
  {
   "cell_type": "code",
   "execution_count": 1,
   "id": "07d8cfbd",
   "metadata": {},
   "outputs": [
    {
     "name": "stdout",
     "output_type": "stream",
     "text": [
      "enter your (sec)no. 24000\n",
      "6 : 40 : 0\n"
     ]
    }
   ],
   "source": [
    "# Convert a given integer(in seconds) to hours,minutes and seconds.\n",
    "\n",
    "A=int(input(\"enter your (sec)no. \"))\n",
    "a=int(A/(3600))\n",
    "b=int(A%(3600)/60)\n",
    "c=int(A%(3600)%60)\n",
    "\n",
    "print (a,\":\",b,\":\",c)"
   ]
  },
  {
   "cell_type": "code",
   "execution_count": 2,
   "id": "f88b7bdc",
   "metadata": {},
   "outputs": [
    {
     "name": "stdout",
     "output_type": "stream",
     "text": [
      "enter no. of days : 657\n",
      "years 1 months 9 days 22\n"
     ]
    }
   ],
   "source": [
    "# Convert integer(days) into years,days and months.(months=30days and years=365days)\n",
    "\n",
    "A=int(input(\"enter no. of days : \"))\n",
    "a=int(A/365)\n",
    "b=int((A%365)/30)\n",
    "c=int((A%365)%30)\n",
    "\n",
    "print(\"years\",a,\"months\",b,\"days\",c)"
   ]
  },
  {
   "cell_type": "code",
   "execution_count": 3,
   "id": "7faf4e46",
   "metadata": {},
   "outputs": [
    {
     "name": "stdout",
     "output_type": "stream",
     "text": [
      "enter numbers : 2\n",
      "enter numbers : 3\n",
      "enter numbers : 4\n",
      "enter numbers : 5\n",
      "enter numbers : 6\n",
      "sum of odd no.  8\n",
      "reading all 5 no. =  [2, 3, 4, 5, 6]\n"
     ]
    }
   ],
   "source": [
    "# read 5 integer and sum odd no. in between\n",
    "\n",
    "odd = []\n",
    "al = []\n",
    "for x in range(5):\n",
    "  A=int(input(\"enter numbers : \"))\n",
    "  if (A%2)!=0:\n",
    "   odd.append(A)\n",
    "   al.append(A)\n",
    "  if (A%2) ==0:\n",
    "   al.append(A)\n",
    "\n",
    "\n",
    "print (\"sum of odd no. \",sum(odd))\n",
    "print (\"reading all 5 no. = \",al)"
   ]
  },
  {
   "cell_type": "code",
   "execution_count": 4,
   "id": "8a5cc253",
   "metadata": {},
   "outputs": [
    {
     "name": "stdout",
     "output_type": "stream",
     "text": [
      "enter first no. 34\n",
      "enter second no. 2\n",
      "not an multipalis\n"
     ]
    }
   ],
   "source": [
    "#read 2 integer and tell wheater thay are multipal or not\n",
    "\n",
    "a=int(input(\"enter first no. \"))\n",
    "b=int(input(\"enter second no. \"))\n",
    "\n",
    "if (a%b)==0 | (b%a)==0:\n",
    "  print(\"multipied!!\")\n",
    "else:\n",
    "  print(\"not an multipalis\")"
   ]
  },
  {
   "cell_type": "code",
   "execution_count": 5,
   "id": "a0853120",
   "metadata": {},
   "outputs": [
    {
     "name": "stdout",
     "output_type": "stream",
     "text": [
      "enter any no. between 1 to 12 : 4\n",
      "April\n"
     ]
    }
   ],
   "source": [
    "#read 1 to 12 integer and tell month in english of that  order\n",
    "  \n",
    "month=[\"January\",\"February\",\"March\",\"April\",\"May\",\"June\",\"July\",\"August\",\"September\",\"October\",\"November\",\"December\"]\n",
    "a=int(input(\"enter any no. between 1 to 12 : \"))\n",
    "\n",
    "if(a<=12):\n",
    "  a-=1\n",
    "  print(month[a])\n",
    "else:\n",
    "  print(\"you enter different number!!\")\n"
   ]
  },
  {
   "cell_type": "code",
   "execution_count": 6,
   "id": "1a7c23c0",
   "metadata": {},
   "outputs": [
    {
     "name": "stdout",
     "output_type": "stream",
     "text": [
      "enter numbers : 4\n",
      "enter numbers : 3\n",
      "enter numbers : 0\n",
      "enter numbers : -3\n",
      "enter numbers : -8\n",
      "numbers of positive no.s are  2\n",
      "numbers of negative no.s are  2\n"
     ]
    }
   ],
   "source": [
    "# Read 5 numbers and counts the number of positive numbers and negative numbers.'''\n",
    "\n",
    "neg = []\n",
    "pos = []\n",
    "\n",
    "for x in range(5):\n",
    "  A=int(input(\"enter numbers : \"))\n",
    "  if (A<0):\n",
    "   neg.append(A)\n",
    "  if (A>0):\n",
    "   pos.append(A)\n",
    "\n",
    "\n",
    "print (\"numbers of positive no.s are \",len(pos))\n",
    "print (\"numbers of negative no.s are \",len(neg))\n"
   ]
  },
  {
   "cell_type": "code",
   "execution_count": 7,
   "id": "9eb19dba",
   "metadata": {},
   "outputs": [
    {
     "name": "stdout",
     "output_type": "stream",
     "text": [
      "enter numbers : 2\n",
      "enter numbers : 3\n",
      "enter numbers : -4\n",
      "enter numbers : -6\n",
      "enter numbers : 4\n",
      "\n",
      " numbers of positive no.s are  3\n",
      "arthematic averge of positive no.s are  3.0\n"
     ]
    }
   ],
   "source": [
    "# Read 5 numbers and counts the number of positive numbersand print the average of all positive values\n",
    "\n",
    "neg = []\n",
    "pos = []\n",
    "\n",
    "for x in range(5):\n",
    "  A=int(input(\"enter numbers : \"))\n",
    "  if (A<0):\n",
    "   neg.append(A)\n",
    "  if (A>0):\n",
    "   pos.append(A)\n",
    "\n",
    "print ('\\n',\"numbers of positive no.s are \",len(pos))\n",
    "print (\"arthematic averge of positive no.s are \",(sum(pos)/len(pos)))\n"
   ]
  },
  {
   "cell_type": "code",
   "execution_count": 8,
   "id": "d13f1b7d",
   "metadata": {},
   "outputs": [
    {
     "name": "stdout",
     "output_type": "stream",
     "text": [
      "enter numbers : 3\n",
      "enter numbers : 4\n",
      "enter numbers : 5\n",
      "enter numbers : 6\n",
      "enter numbers : 8\n",
      "sum of odd no.  8\n",
      "reading all 5 no. =  [3, 4, 5, 6, 8]\n"
     ]
    }
   ],
   "source": [
    "# Read 5 integer and sum odd no. in between\n",
    "\n",
    "odd = []\n",
    "al = []\n",
    "for x in range(5):\n",
    "  A=int(input(\"enter numbers : \"))\n",
    "  if (A%2)!=0:\n",
    "   odd.append(A)\n",
    "   al.append(A)\n",
    "  if (A%2) ==0:\n",
    "   al.append(A)\n",
    "\n",
    "\n",
    "print (\"sum of odd no. \",sum(odd))\n",
    "print (\"reading all 5 no. = \",al)\n"
   ]
  },
  {
   "cell_type": "code",
   "execution_count": 9,
   "id": "9c57ecfb",
   "metadata": {},
   "outputs": [
    {
     "name": "stdout",
     "output_type": "stream",
     "text": [
      "Km per hour : 3\n",
      "\n",
      " miles per hour :  1.8641136\n"
     ]
    }
   ],
   "source": [
    "# converts kilometers per hour to miles per hour\n",
    "\n",
    "a=float(input(\"Km per hour : \"))\n",
    "k=a*0.6213712\n",
    "print('\\n',\"miles per hour : \",k)\n"
   ]
  },
  {
   "cell_type": "code",
   "execution_count": 10,
   "id": "6c47a3ce",
   "metadata": {},
   "outputs": [
    {
     "name": "stdout",
     "output_type": "stream",
     "text": [
      "enter first number 23\n",
      "enter second number 7\n",
      "\n",
      " true\n"
     ]
    }
   ],
   "source": [
    "#Check two given integers, and print true if one of them is 30 or if their sum is 30 else print false\n",
    "\n",
    "l=int(input(\"enter first number \"))\n",
    "c=int(input(\"enter second number \"))\n",
    "\n",
    "\n",
    "if (l+c)==30 or c==30 or l==30 :\n",
    "  print('\\n',\"true\")\n",
    "else:\n",
    "  print('\\n',\"false\")\n"
   ]
  },
  {
   "cell_type": "code",
   "execution_count": 11,
   "id": "95084879",
   "metadata": {},
   "outputs": [
    {
     "name": "stdout",
     "output_type": "stream",
     "text": [
      "enter Dividend 2500\n",
      "enter Divisor 235\n",
      "Quotient =  10 Reminder =  150\n"
     ]
    }
   ],
   "source": [
    "#Integral quotient and remainder of a division\n",
    "\n",
    "n=int(input(\"enter Dividend \"))\n",
    "t=int(input(\"enter Divisor \"))\n",
    "print(\"Quotient = \",(n//t),\"Reminder = \",(n%t))\n"
   ]
  },
  {
   "cell_type": "code",
   "execution_count": 12,
   "id": "c23fbe8e",
   "metadata": {},
   "outputs": [
    {
     "name": "stdout",
     "output_type": "stream",
     "text": [
      "Enter a number :2\n",
      "Enter a number :3\n",
      "Enter a number :4\n",
      "Enter a number :5\n",
      "Enter a number :6\n",
      "Sum of all numbers : 20\n",
      "Average of all numbers : 4\n"
     ]
    }
   ],
   "source": [
    "#print sum and avg of 5 numbers\n",
    "n = 5\n",
    "num = 0\n",
    "Sum = 0\n",
    "avg = 0\n",
    "i = 0\n",
    "while i < n:\n",
    "    num = int(input(\"Enter a number :\"))\n",
    "    Sum = Sum + num\n",
    "    i = i + 1\n",
    "    avg = Sum // n\n",
    "print(\"Sum of all numbers :\", Sum)\n",
    "print(\"Average of all numbers :\", avg)\n"
   ]
  },
  {
   "cell_type": "code",
   "execution_count": 16,
   "id": "160dddfb",
   "metadata": {},
   "outputs": [
    {
     "name": "stdout",
     "output_type": "stream",
     "text": [
      "enter no. of rows :12\n",
      "            \n",
      "           *\n",
      "          ***\n",
      "         *****\n",
      "        *******\n",
      "       *********\n",
      "      ***********\n",
      "     *************\n",
      "    ***************\n",
      "   *****************\n",
      "  *******************\n",
      " *********************\n",
      "***********************\n"
     ]
    }
   ],
   "source": [
    "n = int(input(\"enter no. of rows :\"))\n",
    "i = 0\n",
    "while i <= n:\n",
    "    j = n\n",
    "    while j > i:\n",
    "        print(\" \", end=\"\")\n",
    "        j = j - 1\n",
    "    k = 0\n",
    "    while k < i:\n",
    "        print(\"*\", end=\"\")\n",
    "        if k > 0:\n",
    "            print(\"*\", end=\"\")\n",
    "        k = k + 1\n",
    "    print(\"\")\n",
    "    i = i + 1\n"
   ]
  },
  {
   "cell_type": "code",
   "execution_count": 17,
   "id": "0fb56d64",
   "metadata": {},
   "outputs": [
    {
     "name": "stdout",
     "output_type": "stream",
     "text": [
      "enter a number :5\n",
      "You enter a Positive number\n"
     ]
    }
   ],
   "source": [
    "num = int(input(\"enter a number :\"))\n",
    "if num == 0:\n",
    "    print(\"you enter zero\")\n",
    "elif num < 0:\n",
    "    print(\"You Enter a Negative number \")\n",
    "else:\n",
    "    print(\"You enter a Positive number\")\n"
   ]
  },
  {
   "cell_type": "code",
   "execution_count": 18,
   "id": "bffbfa52",
   "metadata": {},
   "outputs": [
    {
     "name": "stdout",
     "output_type": "stream",
     "text": [
      "Enter a number 2334\n",
      "The number you enter contain : 4  digits \n"
     ]
    }
   ],
   "source": [
    "number = int(input(\"Enter a number \"))\n",
    "digits = 0\n",
    "while number != 0:\n",
    "    number = number // 10\n",
    "    digits = digits + 1\n",
    "print(\"The number you enter contain :\", digits, \" digits \")\n"
   ]
  },
  {
   "cell_type": "code",
   "execution_count": 19,
   "id": "2e072ae3",
   "metadata": {},
   "outputs": [
    {
     "name": "stdout",
     "output_type": "stream",
     "text": [
      "Enter first number 254\n",
      "Enter Second number 343\n",
      "Enter third number 222\n",
      "All number are different \n"
     ]
    }
   ],
   "source": [
    "num1 = int(input(\"Enter first number \"))\n",
    "num2 = int(input(\"Enter Second number \"))\n",
    "num3 = int(input(\"Enter third number \"))\n",
    "if num1 == num2 and num1 == num3:\n",
    "    print(\"All numbers are equal :\")\n",
    "elif num1 != num2 and num2 != num3 and num1 != num3:\n",
    "    print(\"All number are different \")\n",
    "else:\n",
    "    print(\"Neither all are equal or different\")\n"
   ]
  },
  {
   "cell_type": "code",
   "execution_count": 20,
   "id": "b5a7d5cd",
   "metadata": {},
   "outputs": [
    {
     "name": "stdout",
     "output_type": "stream",
     "text": [
      "enter a number 334\n",
      "enter a number 444\n",
      "enter a number 566\n",
      "you enter number in increasing order \n"
     ]
    }
   ],
   "source": [
    "n1=int(input(\"enter a number \"))\n",
    "n2=int(input(\"enter a number \"))\n",
    "n3=int(input(\"enter a number \"))\n",
    "if(n1<n2 and n2<n3):\n",
    "  print(\"you enter number in increasing order \")\n",
    "elif(n1>n2 and n2>n3):\n",
    "  print(\"you enter number in decreasing order \")\n",
    "else:\n",
    "  print(\"Neither increasing nor decreasing order\")\n"
   ]
  },
  {
   "cell_type": "code",
   "execution_count": 21,
   "id": "adfa87a2",
   "metadata": {},
   "outputs": [
    {
     "name": "stdout",
     "output_type": "stream",
     "text": [
      "inter a number :22\n",
      "sum of factorial of all digits : 4\n",
      "so the number is not strong number \n"
     ]
    }
   ],
   "source": [
    "num = int(input(\"inter a number :\"))\n",
    "n = num\n",
    "i = 0\n",
    "Sum = 0\n",
    "while n != 0:\n",
    "    f = n % 10\n",
    "    j = 1\n",
    "    fact = 1\n",
    "    while f >= j:\n",
    "        fact = fact * j\n",
    "        j = j + 1\n",
    "\n",
    "    Sum = Sum + fact\n",
    "    n = n // 10\n",
    "print(\"sum of factorial of all digits :\", Sum)\n",
    "if Sum == num:\n",
    "    print(\"so the number is a strong number \")\n",
    "else:\n",
    "    print(\"so the number is not strong number \")\n"
   ]
  },
  {
   "cell_type": "code",
   "execution_count": 22,
   "id": "e00c6946",
   "metadata": {},
   "outputs": [
    {
     "name": "stdout",
     "output_type": "stream",
     "text": [
      "Enter a number :179\n",
      "The sum of the cube of digit : 1073\n",
      "number is not armstrong number\n"
     ]
    }
   ],
   "source": [
    " \n",
    "num = int(input(\"Enter a number :\"))\n",
    "n = num\n",
    "i = 0\n",
    "Sum = 0\n",
    "cube = 1\n",
    "while n != 0:\n",
    "    f = n % 10\n",
    "    cube = f ** 3\n",
    "    Sum = Sum + cube\n",
    "    n = n // 10\n",
    "\n",
    "print(\"The sum of the cube of digit :\", Sum)\n",
    "if Sum == num:\n",
    "    print(\"number is armstrong number\")\n",
    "else:\n",
    "\n",
    "    print(\"number is not armstrong number\")\n"
   ]
  },
  {
   "cell_type": "code",
   "execution_count": 23,
   "id": "b2b65b33",
   "metadata": {},
   "outputs": [
    {
     "name": "stdout",
     "output_type": "stream",
     "text": [
      "enter the number 2323\n",
      "3232\n",
      "reverse of the digit : 3232\n",
      "number is not palindrome\n"
     ]
    }
   ],
   "source": [
    "n = int(input(\"enter the number \"))\n",
    "num = n\n",
    "if n > 10:\n",
    "    rev = 0\n",
    "    while num > 0:\n",
    "        a = num % 10\n",
    "        rev = rev * 10 + a\n",
    "        num = num // 10\n",
    "    print(rev)\n",
    "    print(\"reverse of the digit :\", rev)\n",
    "    if rev == num:\n",
    "        print(\"number is palindrome\")\n",
    "    else:\n",
    "        print(\"number is not palindrome\")\n",
    "else:\n",
    "    print(\"you enter a one digit number\")\n",
    " \n"
   ]
  },
  {
   "cell_type": "code",
   "execution_count": 24,
   "id": "357ce0be",
   "metadata": {},
   "outputs": [
    {
     "name": "stdout",
     "output_type": "stream",
     "text": [
      "enter the number of elemnt of fibonacy series :15\n",
      "0\n",
      "1\n",
      "1\n",
      "2\n",
      "3\n",
      "5\n",
      "8\n",
      "13\n",
      "21\n",
      "34\n",
      "55\n",
      "89\n",
      "144\n",
      "233\n",
      "377\n",
      "610\n"
     ]
    }
   ],
   "source": [
    "n = int(input(\"enter the number of elemnt of fibonacy series :\"))\n",
    "i = 0\n",
    "first = 0\n",
    "second = 1\n",
    "Sum = 0\n",
    "while i < n:\n",
    "    if i == 0:\n",
    "        print(i)\n",
    "    Sum = first + second\n",
    "    second = first\n",
    "    first = Sum\n",
    "    print(Sum)\n",
    "    i = i + 1\n",
    " \n"
   ]
  },
  {
   "cell_type": "code",
   "execution_count": 25,
   "id": "55f96afb",
   "metadata": {},
   "outputs": [
    {
     "name": "stdout",
     "output_type": "stream",
     "text": [
      "enter the number :325\n",
      "before rev : 325\n",
      "after rev : 523\n"
     ]
    }
   ],
   "source": [
    "num = int(input(\"enter the number :\"))\n",
    "rev = 0\n",
    "t = 0\n",
    "print(\"before rev :\", num)\n",
    "while num > 0:\n",
    "    t = num % 10\n",
    "    rev = rev * 10 + t\n",
    "    num = num // 10\n",
    "print(\"after rev :\", rev)\n"
   ]
  },
  {
   "cell_type": "code",
   "execution_count": 26,
   "id": "9dd9b0f1",
   "metadata": {},
   "outputs": [
    {
     "name": "stdout",
     "output_type": "stream",
     "text": [
      "enter the number :13\n",
      "sum of all even integer from 0 to  13 : 42\n"
     ]
    }
   ],
   "source": [
    "n = int(input(\"enter the number :\"))\n",
    "sum = 0\n",
    "for x in range(n):\n",
    "    if x % 2 == 0:\n",
    "        sum = sum + x;\n",
    "print(\"sum of all even integer from 0 to \", n, \":\", sum)\n"
   ]
  },
  {
   "cell_type": "code",
   "execution_count": 27,
   "id": "708a532c",
   "metadata": {},
   "outputs": [
    {
     "name": "stdout",
     "output_type": "stream",
     "text": [
      "enter the number :123\n",
      "the first digit : 1\n",
      "the last  digit : 3\n"
     ]
    }
   ],
   "source": [
    "number = int(input(\"enter the number :\"))\n",
    "i = 0\n",
    "first = 0\n",
    "last = 0\n",
    "while number > 0:\n",
    "\n",
    "    a = number % 10\n",
    "    number = number // 10\n",
    "    if i == 0:\n",
    "        last = a\n",
    "    else:\n",
    "        first = a\n",
    "    i = i + 1\n",
    "print(\"the first digit :\", first)\n",
    "print(\"the last  digit :\", last)\n"
   ]
  },
  {
   "cell_type": "code",
   "execution_count": 30,
   "id": "f27e05a7",
   "metadata": {},
   "outputs": [
    {
     "name": "stdout",
     "output_type": "stream",
     "text": [
      "Enter the number :56\n",
      "the first digit : 5\n",
      "The last  digit : 6\n",
      "After swapping the last and first digit : 65\n"
     ]
    }
   ],
   "source": [
    "number = int(input(\"Enter the number :\"))\n",
    "n = number\n",
    "i = 1\n",
    "first = 0\n",
    "last = 0\n",
    "while n > 0:\n",
    "\n",
    "    a = n % 10\n",
    "    n = n // 10\n",
    "    if i == 1:\n",
    "        last = a\n",
    "    else:\n",
    "        first = a\n",
    "    i = i + 1\n",
    "print(\"the first digit :\", first)\n",
    "number = number - last\n",
    "print(\"The last  digit :\", last)\n",
    "i = i - 2\n",
    "number = number - 10 ** i * first\n",
    "number = number + first\n",
    "number = number + 10 ** i * last\n",
    "print(\"After swapping the last and first digit :\", number)\n"
   ]
  },
  {
   "cell_type": "code",
   "execution_count": 31,
   "id": "81ad9a95",
   "metadata": {},
   "outputs": [
    {
     "name": "stdout",
     "output_type": "stream",
     "text": [
      "enter a number :20\n",
      "fact : 1\n",
      "fact : 2\n",
      "fact : 4\n",
      "fact : 5\n",
      "fact : 10\n",
      "fact : 20\n"
     ]
    }
   ],
   "source": [
    "num = int(input(\"enter a number :\"))\n",
    "for x in range(1, num + 1):\n",
    "    if num % x == 0:\n",
    "        print(\"fact :\", x)\n"
   ]
  },
  {
   "cell_type": "code",
   "execution_count": 32,
   "id": "4da09c45",
   "metadata": {},
   "outputs": [
    {
     "name": "stdout",
     "output_type": "stream",
     "text": [
      "enter a number :44\n",
      "enter a number :3\n",
      "maxed number : 44\n"
     ]
    }
   ],
   "source": [
    "num1 = int(input(\"enter a number :\"))\n",
    "num2 = int(input(\"enter a number :\"))\n",
    "if num1 < num2:\n",
    "    print(\"maxed number :\", num2)\n",
    "else:\n",
    "    print(\"maxed number :\", num1)\n"
   ]
  },
  {
   "cell_type": "code",
   "execution_count": 33,
   "id": "c0ea7a4d",
   "metadata": {},
   "outputs": [
    {
     "name": "stdout",
     "output_type": "stream",
     "text": [
      "enter first number 34\n",
      "enter second number 55\n",
      "before swapping :\n",
      "num1 : 34\n",
      "num2 : 55\n",
      "after swapping :\n",
      "num1 : 55\n",
      "num2 : 34\n"
     ]
    }
   ],
   "source": [
    "numb1 = int(input(\"enter first number \"))\n",
    "numb2 = int(input(\"enter second number \"))\n",
    "print(\"before swapping :\")\n",
    "print(\"num1 :\", numb1)\n",
    "print(\"num2 :\", numb2)\n",
    "numb1 = numb1 ^ numb2\n",
    "numb2 = numb1 ^ numb2\n",
    "numb1 = numb1 ^ numb2\n",
    "print(\"after swapping :\")\n",
    "print(\"num1 :\", numb1)\n",
    "print(\"num2 :\", numb2)\n"
   ]
  },
  {
   "cell_type": "code",
   "execution_count": 34,
   "id": "dea6e116",
   "metadata": {
    "scrolled": true
   },
   "outputs": [
    {
     "name": "stdout",
     "output_type": "stream",
     "text": [
      "A\n",
      "BC\n",
      "CDE\n",
      "DEFG\n",
      "EFGHI\n"
     ]
    }
   ],
   "source": [
    "for r in range(65, 70):\n",
    "    k = r\n",
    "    for c in range(65, r + 1):\n",
    "        print(chr(k), end=\"\")\n",
    "        k = k + 1\n",
    "    print()\n"
   ]
  },
  {
   "cell_type": "code",
   "execution_count": null,
   "id": "7708ffa6",
   "metadata": {},
   "outputs": [],
   "source": []
  }
 ],
 "metadata": {
  "kernelspec": {
   "display_name": "Python 3 (ipykernel)",
   "language": "python",
   "name": "python3"
  },
  "language_info": {
   "codemirror_mode": {
    "name": "ipython",
    "version": 3
   },
   "file_extension": ".py",
   "mimetype": "text/x-python",
   "name": "python",
   "nbconvert_exporter": "python",
   "pygments_lexer": "ipython3",
   "version": "3.10.6"
  }
 },
 "nbformat": 4,
 "nbformat_minor": 5
}
