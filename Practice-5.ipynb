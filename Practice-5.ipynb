{
 "cells": [
  {
   "cell_type": "code",
   "execution_count": 3,
   "id": "8a8fce63",
   "metadata": {},
   "outputs": [
    {
     "name": "stdout",
     "output_type": "stream",
     "text": [
      "Enter the number: 4\n",
      "2.6666666666666665\n"
     ]
    }
   ],
   "source": [
    "# 42. Write a program to calculate the sum of the following series till the nth term\n",
    "# 1/1! + 2/2! + 3/3! + 4/4! +…….+ n/n!    n will be provided by the user\n",
    "\n",
    "n = int(input(\"Enter the number: \"))\n",
    "\n",
    "result = 0\n",
    "fact = 1\n",
    "\n",
    "for i in range(1,n+1):\n",
    "    fact = fact * i\n",
    "    result = result + (i/fact)\n",
    "print(result)"
   ]
  },
  {
   "cell_type": "code",
   "execution_count": 5,
   "id": "ce6d105d",
   "metadata": {},
   "outputs": [
    {
     "name": "stdout",
     "output_type": "stream",
     "text": [
      "Enter the number: 3\n",
      "Enter nth term: 4\n",
      "33.75\n"
     ]
    }
   ],
   "source": [
    "# 43. Write a Python Program to Find the Sum of the Series till the nth term:1 + x^2/2 + x^3/3 + … x^n/n\n",
    "# n will be provided by the user\n",
    "\n",
    "x = int(input(\"Enter the number: \"))\n",
    "n = int(input(\"Enter nth term: \"))\n",
    "\n",
    "sum = 0\n",
    "\n",
    "for i in range(2,n+1):\n",
    "      sum = sum + ((x**i)/i)\n",
    "print(sum)"
   ]
  },
  {
   "cell_type": "code",
   "execution_count": 7,
   "id": "c7093722",
   "metadata": {},
   "outputs": [
    {
     "name": "stdout",
     "output_type": "stream",
     "text": [
      "Enter Number: 4\n",
      "1.674774169921875\n"
     ]
    }
   ],
   "source": [
    "# 44.The natural logarithm can be approximated by the following series. If x is input through the keyboard,\n",
    "# write a program to calculate the sum of the first seven terms of this series.\n",
    "# (x-1/x) + 1/2(x-1/x)**2 + 1/2(x-1/x)**3 + ..1/2(x-1/x)**7\n",
    "\n",
    "x = int(input(\"Enter Number: \"))\n",
    "n = 7\n",
    "sum = ((x-1)/x)\n",
    "\n",
    "for i in range(2,n+1):\n",
    "    sum = sum + (1/2*((x-1)/x)**i)\n",
    "print(sum)"
   ]
  },
  {
   "cell_type": "code",
   "execution_count": 15,
   "id": "1a1f9b1f",
   "metadata": {},
   "outputs": [
    {
     "name": "stdout",
     "output_type": "stream",
     "text": [
      "Enter Number: 1\n",
      "Another Number: 34\n",
      "Another Number: 65\n",
      "Another Number: 23\n",
      "Another Number: 87\n",
      "Another Number: 0\n",
      "Thank You \n",
      "add is 210\n",
      "avg is 42.0\n",
      "Count is 5\n"
     ]
    }
   ],
   "source": [
    "# 45.Write a program that keeps on accepting a number from the user until the user enters Zero. \n",
    "# Display the sum and average of all the numbers.\n",
    "\n",
    "\n",
    "n = int(input(\"Enter Number: \"))\n",
    "add = 0\n",
    "avg = 0\n",
    "count = 0\n",
    "\n",
    "while True:\n",
    "    if n != 0:\n",
    "        add = add + n\n",
    "        count = count + 1\n",
    "        avg = add / count\n",
    "        n = int(input(\"Another Number: \"))\n",
    "    else:\n",
    "        print(\"Thank You \")\n",
    "        break\n",
    "print(\"add is\",add)\n",
    "print(\"avg is\",avg)\n",
    "print(\"Count is\",count)\n"
   ]
  },
  {
   "cell_type": "code",
   "execution_count": 23,
   "id": "e9bc4116",
   "metadata": {},
   "outputs": [
    {
     "name": "stdout",
     "output_type": "stream",
     "text": [
      "Enter numerater: 5\n",
      "Enter Denominator: 15\n",
      "1 / 3\n"
     ]
    }
   ],
   "source": [
    "# 46.Write a program that accepts 2 numbers from the user a numerator and a denominator and then simplifies it\n",
    "# Eg if the num = 5, den = 15 the answer should be ⅓ ,Eg if the num = 6, den = 9 the answer should be ⅔\n",
    "\n",
    "a = int(input(\"Enter numerater: \"))\n",
    "num1 = a\n",
    "b = int(input(\"Enter Denominator: \"))\n",
    "num2 = b\n",
    "\n",
    "while num1 % num2 != 0:\n",
    "    rem = num1 % num2\n",
    "    num1 = num2 \n",
    "    num2 = rem\n",
    "hcf = num2\n",
    "a = a//hcf\n",
    "b = b//hcf\n",
    "print(a,\"/\",b)"
   ]
  },
  {
   "cell_type": "code",
   "execution_count": 24,
   "id": "c294b603",
   "metadata": {},
   "outputs": [
    {
     "name": "stdout",
     "output_type": "stream",
     "text": [
      "Enter string:ashish\n",
      "Length is  6\n"
     ]
    }
   ],
   "source": [
    "# 47.Find the length of a given string without using the len() function.\n",
    "\n",
    "a = input(\"Enter string:\")\n",
    "count = 0\n",
    "\n",
    "for i in a:\n",
    "    count = count + 1\n",
    "print(\"Length is \",count)"
   ]
  },
  {
   "cell_type": "code",
   "execution_count": 28,
   "id": "ada84111",
   "metadata": {},
   "outputs": [
    {
     "name": "stdout",
     "output_type": "stream",
     "text": [
      "Enter Email: nitish24singh@gmail.com\n",
      "nitish24singh\n"
     ]
    }
   ],
   "source": [
    "# 48.Extract username from a given email. Eg if the email is nitish24singh@gmail.com then the username should be nitish24singh\n",
    "\n",
    "email = input(\"Enter Email: \")\n",
    "\n",
    "username,mail = email.split('@')\n",
    "\n",
    "print(username)"
   ]
  },
  {
   "cell_type": "code",
   "execution_count": 34,
   "id": "a457a047",
   "metadata": {},
   "outputs": [
    {
     "name": "stdout",
     "output_type": "stream",
     "text": [
      "Enter string:hello how are you\n",
      "Enter frequency word:h\n",
      "Length is  2\n"
     ]
    }
   ],
   "source": [
    "# 49.Count the frequency of a particular character in a provided string. Eg'hello how are you' is the string,\n",
    "# the frequency of h in this string is 2.\n",
    "\n",
    "\n",
    "a = input(\"Enter string:\")\n",
    "f = input(\"Enter frequency word:\")\n",
    "\n",
    "count = 0\n",
    "\n",
    "for i in a:\n",
    "    if i == f:\n",
    "        count = count + 1\n",
    "print(\"Length is \",count)"
   ]
  },
  {
   "cell_type": "code",
   "execution_count": 37,
   "id": "8a20fe0d",
   "metadata": {},
   "outputs": [
    {
     "name": "stdout",
     "output_type": "stream",
     "text": [
      "Enter string: ashish\n",
      "Enter character i\n",
      "3\n"
     ]
    }
   ],
   "source": [
    "# 50.Find the index position of a particular character in string.\n",
    "\n",
    "a = input(\"Enter string: \")\n",
    "i = input(\"Enter character \")\n",
    "print(a.index(i))"
   ]
  },
  {
   "cell_type": "code",
   "execution_count": 38,
   "id": "60630d85",
   "metadata": {},
   "outputs": [
    {
     "name": "stdout",
     "output_type": "stream",
     "text": [
      "Enter string:ashish\n",
      "Length is  2\n"
     ]
    }
   ],
   "source": [
    "# 51.Count the number of vowels in a string provided by the user.\n",
    "\n",
    "s = input(\"Enter string:\")\n",
    "\n",
    "count = 0\n",
    "\n",
    "for i in a:\n",
    "    if i == 'a' or i == 'e' or i == 'i' or i == 'o' or i == 'u':\n",
    "        count = count + 1\n",
    "print(\"Length is \",count)"
   ]
  },
  {
   "cell_type": "code",
   "execution_count": 45,
   "id": "64618d95",
   "metadata": {},
   "outputs": [
    {
     "name": "stdout",
     "output_type": "stream",
     "text": [
      "Enter string: ashish\n",
      "Enter character s\n",
      "ahish\n"
     ]
    }
   ],
   "source": [
    "# 52.Write a program which can remove a particular character from a string.\n",
    "\n",
    "a = input(\"Enter string: \")\n",
    "i = input(\"Enter character \")\n",
    "print(a.replace(i,\"\",1))   # first occurance = 1"
   ]
  },
  {
   "cell_type": "code",
   "execution_count": 50,
   "id": "1ba6389e",
   "metadata": {},
   "outputs": [
    {
     "name": "stdout",
     "output_type": "stream",
     "text": [
      "Enter string: madam\n",
      "It's palindrome\n"
     ]
    }
   ],
   "source": [
    "# 53.Write a program that can check whether a given string is palindrome or not.\n",
    "# A string is called a palindrome if the reverse of the string is the same as the original one. For example, “madam”.\n",
    "\n",
    "\n",
    "s = input(\"Enter string: \")\n",
    "r = s[::-1]\n",
    "\n",
    "if s == r:\n",
    "    print(\"It's palindrome\")\n",
    "else:\n",
    "    print(\"It's Not palindrome\")"
   ]
  },
  {
   "cell_type": "code",
   "execution_count": 56,
   "id": "ac0eeda8",
   "metadata": {},
   "outputs": [
    {
     "name": "stdout",
     "output_type": "stream",
     "text": [
      "Enter list:3243245345546345\n",
      "['3', '2', '4', '5', '6']\n"
     ]
    }
   ],
   "source": [
    "# 54.Write a python program to remove all the duplicates from a list.\n",
    "\n",
    "l = input(\"Enter list:\")\n",
    "nl = []\n",
    "\n",
    "for i in l:\n",
    "    if i not in nl:\n",
    "        nl.append(i)\n",
    "print(nl)"
   ]
  },
  {
   "cell_type": "code",
   "execution_count": 4,
   "id": "2d3ed56d",
   "metadata": {},
   "outputs": [
    {
     "name": "stdout",
     "output_type": "stream",
     "text": [
      "Enter string: hELLO nitisH sinGh\n",
      "Hello Nitish Singh \n"
     ]
    }
   ],
   "source": [
    "# 55.Write a python program to convert a string to title case without using the title()\n",
    "\n",
    "s = input(\"Enter string: \")\n",
    "l = s.split()\n",
    "r = ''\n",
    "\n",
    "for i in l:\n",
    "    r = r + i[0].upper() + i[1:].lower() + ' '\n",
    "print(r)"
   ]
  },
  {
   "cell_type": "code",
   "execution_count": 12,
   "id": "8190996d",
   "metadata": {},
   "outputs": [
    {
     "name": "stdout",
     "output_type": "stream",
     "text": [
      "70\n"
     ]
    }
   ],
   "source": [
    "# 56.Write a python program to find the max item from a list without using the max function\n",
    "\n",
    "l1 = [30,20,10,70,50,0]\n",
    "x = sorted(l1)\n",
    "print(x[-1])"
   ]
  },
  {
   "cell_type": "code",
   "execution_count": 14,
   "id": "7c7703b1",
   "metadata": {},
   "outputs": [
    {
     "name": "stdout",
     "output_type": "stream",
     "text": [
      "[0, 50, 70, 10, 20, 30]\n"
     ]
    }
   ],
   "source": [
    "# 57. Write a python program to reverse a list\n",
    "\n",
    "l1 = [30,20,10,70,50,0]\n",
    "print(l1[::-1])"
   ]
  },
  {
   "cell_type": "code",
   "execution_count": 29,
   "id": "e613121f",
   "metadata": {},
   "outputs": [
    {
     "name": "stdout",
     "output_type": "stream",
     "text": [
      "Enter number: 20\n",
      "True\n"
     ]
    }
   ],
   "source": [
    "# 58.Write a python program to search a given number from a list\n",
    "\n",
    "l1 = [30,20,10,70,50,0]\n",
    "num = int(input(\"Enter number: \"))\n",
    "\n",
    "for i in l1:\n",
    "    if i == num:\n",
    "        print(True)\n",
    "        break\n",
    "else:\n",
    "    print(False)"
   ]
  },
  {
   "cell_type": "code",
   "execution_count": 30,
   "id": "0e538c55",
   "metadata": {},
   "outputs": [
    {
     "name": "stdout",
     "output_type": "stream",
     "text": [
      "[4, 16, 36, 64, 100]\n"
     ]
    }
   ],
   "source": [
    "# 59.Write a program that can create a new list from a given list where each item in the new list is square \n",
    "# of the item of the old list\n",
    "\n",
    "l1 = [2,4,6,8,10]\n",
    "l2 = []\n",
    "\n",
    "for i in l1:\n",
    "    l2.append(i**2)\n",
    "print(l2)"
   ]
  }
 ],
 "metadata": {
  "kernelspec": {
   "display_name": "Python 3 (ipykernel)",
   "language": "python",
   "name": "python3"
  },
  "language_info": {
   "codemirror_mode": {
    "name": "ipython",
    "version": 3
   },
   "file_extension": ".py",
   "mimetype": "text/x-python",
   "name": "python",
   "nbconvert_exporter": "python",
   "pygments_lexer": "ipython3",
   "version": "3.10.6"
  }
 },
 "nbformat": 4,
 "nbformat_minor": 5
}
