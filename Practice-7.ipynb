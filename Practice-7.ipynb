{
 "cells": [
  {
   "cell_type": "code",
   "execution_count": 7,
   "id": "2ea71fc2",
   "metadata": {},
   "outputs": [
    {
     "name": "stdout",
     "output_type": "stream",
     "text": [
      "{'a': 1, 'b': 2, 'c': 3, 'd': 4, 'e': '5', 'f': 6, 'g': 7, 'h': 8}\n"
     ]
    }
   ],
   "source": [
    "# 76.Write a program to merge two given dictionary.\n",
    "\n",
    "d1 = {'a':1,'b':2,'c':3,'d':4}\n",
    "d2 = {'e':'5','f':6,'g':7,'h':8}\n",
    "\n",
    "d = {**d1, **d2}\n",
    "print(d)"
   ]
  },
  {
   "cell_type": "code",
   "execution_count": 9,
   "id": "774d221e",
   "metadata": {},
   "outputs": [
    {
     "name": "stdout",
     "output_type": "stream",
     "text": [
      "Swapped Dictionary: {'a': 3, 'b': 1, 'c': 1}\n"
     ]
    }
   ],
   "source": [
    "# 77. Write a program to swap the key value pair for max and min values Eg if the dict is like this {‘a’:1,’b’:2,’c’:3}\n",
    "# Output should be {a:3,b:2,c:1}\n",
    "\n",
    "input_dict = {'a': 1, 'b': 2, 'c': 3}\n",
    "\n",
    "# Find maximum and minimum values\n",
    "max_value = max(input_dict.values())\n",
    "min_value = min(input_dict.values())\n",
    "\n",
    "# Swap the key-value pairs\n",
    "swapped_dict = {key: (max_value if value == min_value else min_value) \n",
    "                for key, value in input_dict.items()}\n",
    "\n",
    "print(\"Swapped Dictionary:\", swapped_dict)"
   ]
  },
  {
   "cell_type": "code",
   "execution_count": 12,
   "id": "2dc93100",
   "metadata": {},
   "outputs": [
    {
     "name": "stdout",
     "output_type": "stream",
     "text": [
      "Enter a list of numbers: 1234\n",
      "Enter bin size: 5\n",
      "Histogram: {246: 1}\n"
     ]
    }
   ],
   "source": [
    "# 78.Write a program to find histogram of a given set of numbers. Take binsize from user.\n",
    "# Print the result in the form of a dictionary.\n",
    "\n",
    "numbers = list(map(int, input(\"Enter a list of numbers: \").split()))\n",
    "bin_size = int(input(\"Enter bin size: \"))\n",
    "\n",
    "# Calculate histogram\n",
    "histogram = {}\n",
    "for number in numbers:\n",
    "    bin_index = number // bin_size\n",
    "    if bin_index in histogram:\n",
    "        histogram[bin_index] += 1\n",
    "    else:\n",
    "        histogram[bin_index] = 1\n",
    "\n",
    "print(\"Histogram:\", histogram)"
   ]
  },
  {
   "cell_type": "code",
   "execution_count": 16,
   "id": "65b2b2d3",
   "metadata": {},
   "outputs": [
    {
     "name": "stdout",
     "output_type": "stream",
     "text": [
      "Enter a string: Calculate Histogram\n",
      "Character Counts: {'uppercase': 2, 'lowercase': 16}\n"
     ]
    }
   ],
   "source": [
    "# 79.Write a function that accepts a string and returns the number of upper case chars and lower case chars as a dictionary.\n",
    "\n",
    "input_str = input(\"Enter a string: \")\n",
    "\n",
    "upper_count = 0\n",
    "lower_count = 0\n",
    "\n",
    "for char in input_str:\n",
    "    if char.isupper():\n",
    "        upper_count += 1\n",
    "    elif char.islower():\n",
    "        lower_count += 1\n",
    "\n",
    "char_counts = {\n",
    "    'uppercase': upper_count,\n",
    "    'lowercase': lower_count\n",
    "}\n",
    "\n",
    "print(\"Character Counts:\", char_counts)"
   ]
  },
  {
   "cell_type": "code",
   "execution_count": 17,
   "id": "a6abd888",
   "metadata": {},
   "outputs": [
    {
     "name": "stdout",
     "output_type": "stream",
     "text": [
      "Numerical Vectors:\n",
      "Text 1: [0, 1, 2]\n",
      "Text 2: [1, 0, 1]\n",
      "Text 3: [0, 1, 0]\n"
     ]
    }
   ],
   "source": [
    "# 80.Write a function that accepts a list of strings and performs Bag of words and convert it to numerical vectors.\n",
    "\n",
    "def bag_vectors(texts):\n",
    "    vocabulary = set()\n",
    "    for text in texts:\n",
    "        words = text.lower().split()\n",
    "        vocabulary.update(words)\n",
    "\n",
    "    vectors = []\n",
    "    for text in texts:\n",
    "        words = text.lower().split()\n",
    "        vector = [words.count(word) for word in vocabulary]\n",
    "        vectors.append(vector)\n",
    "\n",
    "    return vectors\n",
    "\n",
    "text_list = [\"apple banana apple\", \"orange apple\", \"banana\"]\n",
    "\n",
    "numerical_vectors = bag_vectors(text_list)\n",
    "\n",
    "print(\"Numerical Vectors:\")\n",
    "for i, vector in enumerate(numerical_vectors):\n",
    "    print(f\"Text {i+1}:\", vector)"
   ]
  },
  {
   "cell_type": "code",
   "execution_count": 18,
   "id": "0babffec",
   "metadata": {},
   "outputs": [
    {
     "name": "stdout",
     "output_type": "stream",
     "text": [
      "\n",
      "Menu:\n",
      "1. Register\n",
      "2. Login\n",
      "3. Exit\n",
      "Enter your choice: 1\n",
      "Enter a username: adas\n",
      "Enter a password: 312\n",
      "Registration successful!\n",
      "\n",
      "Menu:\n",
      "1. Register\n",
      "2. Login\n",
      "3. Exit\n",
      "Enter your choice: 2\n",
      "Enter your username: adas\n",
      "Enter your password: 312\n",
      "Login successful!\n",
      "\n",
      "Menu:\n",
      "1. Register\n",
      "2. Login\n",
      "3. Exit\n",
      "Enter your choice: 3\n",
      "Exiting...\n"
     ]
    }
   ],
   "source": [
    "# 81.write a dummy program that can perform login and registration using a menu driven program\n",
    "\n",
    "user_data = {}\n",
    "\n",
    "def register():\n",
    "    username = input(\"Enter a username: \")\n",
    "    password = input(\"Enter a password: \")\n",
    "    user_data[username] = password\n",
    "    print(\"Registration successful!\")\n",
    "\n",
    "def login():\n",
    "    username = input(\"Enter your username: \")\n",
    "    password = input(\"Enter your password: \")\n",
    "    if username in user_data and user_data[username] == password:\n",
    "        print(\"Login successful!\")\n",
    "    else:\n",
    "        print(\"Login failed. Invalid username or password.\")\n",
    "\n",
    "while True:\n",
    "    print(\"\\nMenu:\")\n",
    "    print(\"1. Register\")\n",
    "    print(\"2. Login\")\n",
    "    print(\"3. Exit\")\n",
    "\n",
    "    choice = input(\"Enter your choice: \")\n",
    "\n",
    "    if choice == '1':\n",
    "        register()\n",
    "    elif choice == '2':\n",
    "        login()\n",
    "    elif choice == '3':\n",
    "        print(\"Exiting...\")\n",
    "        break\n",
    "    else:\n",
    "        print(\"Invalid choice. Please select a valid option.\")"
   ]
  },
  {
   "cell_type": "code",
   "execution_count": 19,
   "id": "676fcfc5",
   "metadata": {},
   "outputs": [
    {
     "name": "stdout",
     "output_type": "stream",
     "text": [
      "The nearest neighbor to (4, 5) is (3, 4) with a distance of 1.41\n"
     ]
    }
   ],
   "source": [
    "# 82.Write a program that accepts neighbors(set of 2D co-ordinates) and a point(single 2D co-ordinate) and tells nearest \n",
    "# neighbor(in terms of euclidean distance)\n",
    "\n",
    "neighbors = {(1, 2), (3, 4), (5, 6)}\n",
    "\n",
    "target_point = (4, 5)\n",
    "\n",
    "# Find the nearest neighbor\n",
    "nearest = None\n",
    "min_distance = float('inf')\n",
    "\n",
    "for neighbor in neighbors:\n",
    "    x1, y1 = target_point\n",
    "    x2, y2 = neighbor\n",
    "    distance = ((x2 - x1)**2 + (y2 - y1)**2)**0.5\n",
    "    \n",
    "    if distance < min_distance:\n",
    "        min_distance = distance\n",
    "        nearest = neighbor\n",
    "\n",
    "print(f\"The nearest neighbor to {target_point} is {nearest} with a distance of {min_distance:.2f}\")"
   ]
  },
  {
   "cell_type": "code",
   "execution_count": 20,
   "id": "c9d29ddd",
   "metadata": {},
   "outputs": [
    {
     "name": "stdout",
     "output_type": "stream",
     "text": [
      "Enter a number: 6\n",
      "The factorial of 6 is 720\n"
     ]
    }
   ],
   "source": [
    "# 83.Write a function that accepts a number and returns it’s factorial. You can not use any loop\n",
    "\n",
    "def factorial(n):\n",
    "    if n == 0:\n",
    "        return 1\n",
    "    else:\n",
    "        return n * factorial(n - 1)\n",
    "\n",
    "number = int(input(\"Enter a number: \"))\n",
    "\n",
    "result = factorial(number)\n",
    "print(f\"The factorial of {number} is {result}\")"
   ]
  },
  {
   "cell_type": "code",
   "execution_count": 1,
   "id": "2c70f620",
   "metadata": {},
   "outputs": [
    {
     "name": "stdout",
     "output_type": "stream",
     "text": [
      "Enter the total number of heads: 4\n",
      "Enter the total number of legs: 10\n",
      "Number of dogs: 1\n",
      "Number of chickens: 3\n"
     ]
    }
   ],
   "source": [
    "# 84.Write a program that will tell the number of dogs and chicken are there when the user will provide the value of total\n",
    "# heads and legs\n",
    "\n",
    "total_heads = int(input(\"Enter the total number of heads: \"))\n",
    "total_legs = int(input(\"Enter the total number of legs: \"))\n",
    "\n",
    "found_solution = False\n",
    "\n",
    "# Try all possible combinations of dogs and chickens\n",
    "for num_dogs in range(total_heads + 1):\n",
    "    num_chickens = total_heads - num_dogs\n",
    "    if (4 * num_dogs + 2 * num_chickens) == total_legs:\n",
    "        found_solution = True\n",
    "        break\n",
    "\n",
    "if found_solution:\n",
    "    print(f\"Number of dogs: {num_dogs}\")\n",
    "    print(f\"Number of chickens: {num_chickens}\")\n",
    "else:\n",
    "    print(\"No valid solution found.\")"
   ]
  },
  {
   "cell_type": "code",
   "execution_count": 2,
   "id": "ca7be895",
   "metadata": {},
   "outputs": [
    {
     "name": "stdout",
     "output_type": "stream",
     "text": [
      "Enter the hour (0-11): 5\n",
      "Enter the minute (0-59): 35\n",
      "The angle between the hour and minute hands is 42.50 degrees\n"
     ]
    }
   ],
   "source": [
    "# 85.Angle between hour and minute\n",
    "\n",
    "hour = int(input(\"Enter the hour (0-11): \"))\n",
    "minute = int(input(\"Enter the minute (0-59): \"))\n",
    "\n",
    "# Calculate the angles\n",
    "hour_angle = (hour % 12) * 30 + 0.5 * minute\n",
    "minute_angle = minute * 6\n",
    "\n",
    "# Calculate the absolute difference\n",
    "angle_diff = abs(hour_angle - minute_angle)\n",
    "\n",
    "# Calculate the smaller angle\n",
    "angle = min(360 - angle_diff, angle_diff)\n",
    "\n",
    "print(f\"The angle between the hour and minute hands is {angle:.2f} degrees\")"
   ]
  }
 ],
 "metadata": {
  "kernelspec": {
   "display_name": "Python 3 (ipykernel)",
   "language": "python",
   "name": "python3"
  },
  "language_info": {
   "codemirror_mode": {
    "name": "ipython",
    "version": 3
   },
   "file_extension": ".py",
   "mimetype": "text/x-python",
   "name": "python",
   "nbconvert_exporter": "python",
   "pygments_lexer": "ipython3",
   "version": "3.10.6"
  }
 },
 "nbformat": 4,
 "nbformat_minor": 5
}
