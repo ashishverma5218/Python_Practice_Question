{
 "cells": [
  {
   "cell_type": "code",
   "execution_count": 4,
   "id": "1ff888dc",
   "metadata": {},
   "outputs": [
    {
     "name": "stdout",
     "output_type": "stream",
     "text": [
      "Enter: how are you\n",
      "you are how\n"
     ]
    }
   ],
   "source": [
    "# 60.Write a program that can reverse words of a given string. Eg if the input is Hello how are you\n",
    "# Output should be you are how Hello.\n",
    "\n",
    "s = input(\"Enter: \")\n",
    "x = s.split()\n",
    "rev = []\n",
    "\n",
    "for i in range(len(x)-1,-1,-1):\n",
    "    rev.append(x[i])\n",
    "y = ' '.join(rev)\n",
    "print(y)"
   ]
  },
  {
   "cell_type": "code",
   "execution_count": 6,
   "id": "38b013af",
   "metadata": {},
   "outputs": [
    {
     "name": "stdout",
     "output_type": "stream",
     "text": [
      "Enter: hello how are you\n",
      "4\n"
     ]
    }
   ],
   "source": [
    "# 61.Write a program that can count the number of words in a given string\n",
    "\n",
    "s = input(\"Enter: \")\n",
    "x = s.split()\n",
    "count = 0\n",
    "\n",
    "for i in range(len(x)):\n",
    "    count = count + 1\n",
    "print(count)"
   ]
  },
  {
   "cell_type": "code",
   "execution_count": 8,
   "id": "67817a13",
   "metadata": {},
   "outputs": [
    {
     "name": "stdout",
     "output_type": "stream",
     "text": [
      "Not Ascending\n"
     ]
    }
   ],
   "source": [
    "# 62.Write a program to check if a list is in ascending order or not.\n",
    "\n",
    "ln = [1,2,3,1,6]\n",
    "f = 0\n",
    "for i in range(0,len(ln)-1):\n",
    "    if ln[i] >= ln[i+1]:\n",
    "        f = 1\n",
    "        break\n",
    "if f == 0:\n",
    "    print(\"Ascending\")\n",
    "else:\n",
    "    print(\"Not Ascending\")"
   ]
  },
  {
   "cell_type": "code",
   "execution_count": 18,
   "id": "bd029553",
   "metadata": {},
   "outputs": [
    {
     "name": "stdout",
     "output_type": "stream",
     "text": [
      "[2, 4, 6, 8, 10]\n",
      "[1, 3, 5, 7, 9]\n"
     ]
    }
   ],
   "source": [
    "# 63.Create 2 lists from a given list where 1st list will contain all the odd numbers from the original list and the \n",
    "# 2nd one will contain all the even numbers\n",
    "\n",
    "s = [1,2,3,4,5,6,7,8,9,10]\n",
    "\n",
    "even = []\n",
    "odd = []\n",
    "\n",
    "for i in s:\n",
    "    if i % 2 == 0:\n",
    "        even.append(i)\n",
    "    else:\n",
    "        odd.append(i)\n",
    "print(even)\n",
    "print(odd)"
   ]
  },
  {
   "cell_type": "code",
   "execution_count": 21,
   "id": "1284dc8f",
   "metadata": {},
   "outputs": [
    {
     "name": "stdout",
     "output_type": "stream",
     "text": [
      "[1, 2, 3, 4, 5, 6, 7, 8]\n"
     ]
    }
   ],
   "source": [
    "# 64.Write a program to merge 2 list without using the + operator\n",
    "\n",
    "l1 = [1,2,3,4]\n",
    "l2 = [5,6,7,8]\n",
    "\n",
    "l1.extend(l2)\n",
    "print(l1)"
   ]
  },
  {
   "cell_type": "code",
   "execution_count": 28,
   "id": "926fb937",
   "metadata": {},
   "outputs": [
    {
     "name": "stdout",
     "output_type": "stream",
     "text": [
      "Enter number you want to replace: 4\n",
      "Enter your number: 8\n",
      "[1, 2, 8, 3, 4, 23, 5, 63, 7]\n"
     ]
    }
   ],
   "source": [
    "# 65.Write a program to replace an item with a different item if found in the list\n",
    "\n",
    "l = [1,2,4,3,4,23,5,63,7]\n",
    "\n",
    "find = int(input(\"Enter number you want to replace: \"))\n",
    "replace = int(input(\"Enter your number: \"))\n",
    "\n",
    "for i in range(0,len(l)):\n",
    "    if find == l[i]:\n",
    "        l[i] = replace\n",
    "        print(l)\n",
    "        break\n",
    "else:\n",
    "    print(\"Not found\")\n"
   ]
  },
  {
   "cell_type": "code",
   "execution_count": 35,
   "id": "4cc2f61b",
   "metadata": {},
   "outputs": [
    {
     "name": "stdout",
     "output_type": "stream",
     "text": [
      "[1, 2, 3, 4, 5, 7, 8]\n"
     ]
    }
   ],
   "source": [
    "# 66.Write a program that can convert a 2D list to 1D listWrite a program that can print\n",
    "\n",
    "l = [1,2,3,4,[5,7,8]]\n",
    "rev = []\n",
    "\n",
    "for i in l:\n",
    "    if type(i) == list:\n",
    "        rev.extend(i)\n",
    "    else:\n",
    "        rev.append(i)\n",
    "print(rev)"
   ]
  },
  {
   "cell_type": "code",
   "execution_count": 39,
   "id": "8e35e84b",
   "metadata": {},
   "outputs": [
    {
     "name": "stdout",
     "output_type": "stream",
     "text": [
      "union [1, 2, 3, 5, 4, 6, 7, 8]\n",
      "intersection [2, 5]\n"
     ]
    }
   ],
   "source": [
    "# 67.Write a program that can perform union and intersection on 2 given list.\n",
    "\n",
    "l1 = [1,2,3,5,4]\n",
    "l2 = [5,6,2,7,8]\n",
    "\n",
    "union = []\n",
    "intersection = []\n",
    "\n",
    "#union\n",
    "\n",
    "for i in l1:\n",
    "    if i not in union:\n",
    "        union.append(i)\n",
    "for j in l2:\n",
    "    if j not in union:\n",
    "        union.append(j)\n",
    "        \n",
    "#intersection\n",
    "\n",
    "for i in l1:\n",
    "    if i in l2:\n",
    "        intersection.append(i)\n",
    "        \n",
    "print(\"union\",union)\n",
    "print(\"intersection\",intersection)"
   ]
  },
  {
   "cell_type": "code",
   "execution_count": 1,
   "id": "18afa1d9",
   "metadata": {},
   "outputs": [
    {
     "name": "stdout",
     "output_type": "stream",
     "text": [
      "3\n",
      "6\n",
      "9\n"
     ]
    }
   ],
   "source": [
    "# 68.the max item of each row of a matrix.\n",
    "\n",
    "matrix = [[1,2,3],\n",
    "         [4,5,6],\n",
    "         [7,8,9]]\n",
    "\n",
    "for i in matrix:\n",
    "    max = i[0]\n",
    "    for j in i:\n",
    "        if j >  max:\n",
    "            max = j\n",
    "    print(max)"
   ]
  },
  {
   "cell_type": "code",
   "execution_count": 14,
   "id": "575e172d",
   "metadata": {},
   "outputs": [
    {
     "name": "stdout",
     "output_type": "stream",
     "text": [
      "Enter an integer B/w (0-99): 98\n",
      "Integer: 98\n",
      "Word Representation: ninety-eight\n"
     ]
    }
   ],
   "source": [
    "# 69.Write a program that can convert an integer to string\n",
    "\n",
    "def int_to_words(num):\n",
    "    ones = [\"zero\", \"one\", \"two\", \"three\", \"four\",\"five\", \"six\", \"seven\", \"eight\", \"nine\"]\n",
    "    teens = [\"eleven\", \"twelve\", \"thirteen\", \"fourteen\", \"fifteen\",\"sixteen\", \"seventeen\", \"eighteen\", \"nineteen\"]\n",
    "    tens = [\"\",\"ten\", \"twenty\", \"thirty\", \"forty\",\"fifty\", \"sixty\", \"seventy\", \"eighty\", \"ninety\"]\n",
    "\n",
    "    if 0 <= num < 10:\n",
    "        return ones[num]\n",
    "    elif 10 <= num < 20:\n",
    "        return teens[num - 11]\n",
    "    elif 20 <= num < 100:\n",
    "        tens_digit = num // 10\n",
    "        ones_digit = num % 10\n",
    "        return tens[tens_digit] + (\"-\" + ones[ones_digit] if ones_digit > 0 else \"\")\n",
    "    else:\n",
    "        return \"number out of range\"\n",
    "\n",
    "# Take user input\n",
    "user_input = input(\"Enter an integer B/w (0-99): \")\n",
    "\n",
    "try:\n",
    "    integer_number = int(user_input)\n",
    "    if 0 <= integer_number <= 99:\n",
    "        word_representation = int_to_words(integer_number)\n",
    "        print(\"Integer:\", integer_number)\n",
    "        print(\"Word Representation:\", word_representation)\n",
    "    else:\n",
    "        print(\"Number out of range. Please enter a number between 0 and 99.\")\n",
    "except ValueError:\n",
    "    print(\"Invalid input. Please enter a valid integer.\")\n"
   ]
  },
  {
   "cell_type": "code",
   "execution_count": 22,
   "id": "d5606557",
   "metadata": {},
   "outputs": [
    {
     "name": "stdout",
     "output_type": "stream",
     "text": [
      "The shape of matrix is 3 * 3\n"
     ]
    }
   ],
   "source": [
    "# 70..Write a program to print the shape of a matrix.\n",
    "\n",
    "matrix = [[1,2,3],\n",
    "         [4,5,6],\n",
    "         [7,8,9]]\n",
    "row = 0\n",
    "\n",
    "for i in matrix:\n",
    "    row = row + 1\n",
    "print(\"The shape of matrix is\",row,\"*\",len(i))"
   ]
  },
  {
   "cell_type": "code",
   "execution_count": 26,
   "id": "0af49c60",
   "metadata": {},
   "outputs": [
    {
     "name": "stdout",
     "output_type": "stream",
     "text": [
      "matrix1:  [1, 2, 3]\n",
      "matrix1:  [4, 5, 6]\n",
      "matrix1:  [7, 8, 9]\n",
      "row1:  3\n",
      "column1:  3\n",
      "matrix2:  [1, 2]\n",
      "matrix2:  [4, 5]\n",
      "matrix2:  [7, 8]\n",
      "row2:  3\n",
      "column2:  2\n",
      "Multipication possible\n"
     ]
    }
   ],
   "source": [
    "# 71.Write a program that can check if you can perform matrix multiplication on 2 matrices\n",
    "\n",
    "matrix1 = [[1,2,3],\n",
    "         [4,5,6],\n",
    "         [7,8,9]]\n",
    "row1 = 0\n",
    "\n",
    "for i in matrix1:\n",
    "    row1 = row1 + 1\n",
    "    column1 = len(i)\n",
    "    print(\"matrix1: \",i)\n",
    "print(\"row1: \",row1)\n",
    "print(\"column1: \",column1)\n",
    "\n",
    "matrix2 = [[1,2],\n",
    "         [4,5],\n",
    "         [7,8]]\n",
    "row2 = 0\n",
    "\n",
    "for j in matrix2:\n",
    "    row2 = row2 + 1\n",
    "    column2 = len(j)\n",
    "    print(\"matrix2: \",j)\n",
    "print(\"row2: \",row2)\n",
    "print(\"column2: \",column2)\n",
    "\n",
    "if column1 == row2:\n",
    "    print(\"Multipication possible\")\n",
    "else:\n",
    "    print(\"not possible\")"
   ]
  },
  {
   "cell_type": "code",
   "execution_count": 27,
   "id": "ec5abcd0",
   "metadata": {},
   "outputs": [
    {
     "name": "stdout",
     "output_type": "stream",
     "text": [
      "Matrix 1: [[1 2]\n",
      " [3 4]]\n",
      "\n",
      "Matrix 2: [[5 6]\n",
      " [7 8]]\n",
      "\n",
      "Matrix Multiplication Result: [[19 22]\n",
      " [43 50]]\n"
     ]
    }
   ],
   "source": [
    "# 72.Write a program to perform matrix multiplication on 2 matrices.\n",
    "\n",
    "import numpy as np\n",
    "\n",
    "matrix1 = np.array([[1, 2], [3, 4]])\n",
    "matrix2 = np.array([[5, 6], [7, 8]])\n",
    "\n",
    "result = np.dot(matrix1, matrix2)\n",
    "\n",
    "print(\"Matrix 1:\",matrix1)\n",
    "print(\"\\nMatrix 2:\",matrix2)\n",
    "print(\"\\nMatrix Multiplication Result:\",result)"
   ]
  },
  {
   "cell_type": "code",
   "execution_count": 33,
   "id": "51bdc2f0",
   "metadata": {},
   "outputs": [
    {
     "name": "stdout",
     "output_type": "stream",
     "text": [
      "[2, 3, 4, 4, 6, 6, 8, 9]\n"
     ]
    }
   ],
   "source": [
    "# 73.Write a program that can sort a given unsorted list.\n",
    "\n",
    "l = [4,3,6,9,2,4,6,8]\n",
    "x  = sorted(l)\n",
    "print(x)"
   ]
  },
  {
   "cell_type": "code",
   "execution_count": 39,
   "id": "1e7f3385",
   "metadata": {},
   "outputs": [
    {
     "name": "stdout",
     "output_type": "stream",
     "text": [
      "Most used word: tum\n"
     ]
    }
   ],
   "source": [
    "# 74.Write a program that can find the most used word in a bollywood song\n",
    "\n",
    "\n",
    "song_lyrics = \"\"\"\n",
    "    Tum paas aaye, yun muskuraye\n",
    "    Tumne na jaane kya sapne dikhaye\n",
    "    Tum paas aaye, yun muskuraye\n",
    "    Tumne na jaane kya sapne dikhaye\n",
    "\"\"\"\n",
    "\n",
    "# Convert lyrics to lowercase and split into words\n",
    "words = song_lyrics.lower().split()\n",
    "\n",
    "# Create a dictionary to count word occurrences\n",
    "word_counts = {}\n",
    "for word in words:\n",
    "    word = word.strip(\".,!?\")\n",
    "    if word in word_counts:\n",
    "        word_counts[word] += 1\n",
    "    else:\n",
    "        word_counts[word] = 1\n",
    "\n",
    "# Find the most common word\n",
    "most_common_word = None\n",
    "max_count = 0\n",
    "for word, count in word_counts.items():\n",
    "    if count > max_count:\n",
    "        most_common_word = word\n",
    "        max_count = count\n",
    "\n",
    "if most_common_word:\n",
    "    print(\"Most used word:\", most_common_word)\n",
    "else:\n",
    "    print(\"No words found in the lyrics.\")"
   ]
  },
  {
   "cell_type": "code",
   "execution_count": 41,
   "id": "a6421b8d",
   "metadata": {},
   "outputs": [
    {
     "name": "stdout",
     "output_type": "stream",
     "text": [
      "Dictionary with Squares: {1: 1, 2: 4, 3: 9, 4: 16, 5: 25, 6: 36, 7: 49, 8: 64, 9: 81, 10: 100}\n"
     ]
    }
   ],
   "source": [
    "# 75.Assume a list with numbers from 1 to 10 and then convert it into a dictionary where the key would be the numbers of the\n",
    "# list and the values would be the square of those numbers.\n",
    "\n",
    "numbers_list = list(range(1, 11))\n",
    "\n",
    "numbers_dict = {num: num ** 2 for num in numbers_list}\n",
    "\n",
    "print(\"Dictionary with Squares:\", numbers_dict)"
   ]
  }
 ],
 "metadata": {
  "kernelspec": {
   "display_name": "Python 3 (ipykernel)",
   "language": "python",
   "name": "python3"
  },
  "language_info": {
   "codemirror_mode": {
    "name": "ipython",
    "version": 3
   },
   "file_extension": ".py",
   "mimetype": "text/x-python",
   "name": "python",
   "nbconvert_exporter": "python",
   "pygments_lexer": "ipython3",
   "version": "3.10.6"
  }
 },
 "nbformat": 4,
 "nbformat_minor": 5
}
